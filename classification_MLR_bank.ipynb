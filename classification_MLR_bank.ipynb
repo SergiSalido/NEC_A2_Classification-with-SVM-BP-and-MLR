{
 "cells": [
  {
   "cell_type": "markdown",
   "id": "6fb35b37-7059-4306-8ba0-b018d00ee1f7",
   "metadata": {
    "tags": []
   },
   "source": [
    "# Classification with Multiple Linear Regression (MLR), bank"
   ]
  },
  {
   "cell_type": "markdown",
   "id": "2902b1ef-979e-4e1c-82d2-d18f34585a78",
   "metadata": {
    "tags": []
   },
   "source": [
    "## Index\n",
    "<nav>\n",
    "\n",
    "* [Import modules](#import_modules)\n",
    "* [Loading data](#loading_data)\n",
    "* [Data preprocessing](#data_preprocessing)\n",
    "* [Cross validation](#cross_validation)\n",
    "* [Training (fit the model)](#training)\n",
    "* [Test (evaluate the model)](#test)\n",
    "* [References](#references)\n",
    "</nav>"
   ]
  },
  {
   "cell_type": "markdown",
   "id": "764d20e7-1615-4086-849c-546747540c94",
   "metadata": {
    "jp-MarkdownHeadingCollapsed": true,
    "tags": []
   },
   "source": [
    "<a id=\"import_modules\"></a>\n",
    "## Import modules"
   ]
  },
  {
   "cell_type": "code",
   "execution_count": 13,
   "id": "15fc918d-8adb-477b-ac0a-b3f6cc0a11aa",
   "metadata": {
    "tags": []
   },
   "outputs": [],
   "source": [
    "import pandas as pd\n",
    "from sklearn.linear_model import LinearRegression\n",
    "from sklearn.model_selection import KFold, train_test_split, cross_val_score\n",
    "import numpy as np\n",
    "import matplotlib.pyplot as plt\n",
    "from sklearn.metrics import confusion_matrix, ConfusionMatrixDisplay, accuracy_score\n",
    "from sklearn.preprocessing import LabelEncoder"
   ]
  },
  {
   "cell_type": "markdown",
   "id": "78b748b6-77b4-4ebc-b59a-ec9fcb07315c",
   "metadata": {
    "jp-MarkdownHeadingCollapsed": true,
    "tags": []
   },
   "source": [
    "<a id=\"loading_data\"></a>\n",
    "## Loading data"
   ]
  },
  {
   "cell_type": "code",
   "execution_count": 14,
   "id": "b9294084-c748-44b4-9c5d-3cea48a0713c",
   "metadata": {
    "tags": []
   },
   "outputs": [
    {
     "data": {
      "text/html": [
       "<div>\n",
       "<style scoped>\n",
       "    .dataframe tbody tr th:only-of-type {\n",
       "        vertical-align: middle;\n",
       "    }\n",
       "\n",
       "    .dataframe tbody tr th {\n",
       "        vertical-align: top;\n",
       "    }\n",
       "\n",
       "    .dataframe thead th {\n",
       "        text-align: right;\n",
       "    }\n",
       "</style>\n",
       "<table border=\"1\" class=\"dataframe\">\n",
       "  <thead>\n",
       "    <tr style=\"text-align: right;\">\n",
       "      <th></th>\n",
       "      <th>age</th>\n",
       "      <th>job</th>\n",
       "      <th>marital</th>\n",
       "      <th>education</th>\n",
       "      <th>default</th>\n",
       "      <th>housing</th>\n",
       "      <th>loan</th>\n",
       "      <th>contact</th>\n",
       "      <th>month</th>\n",
       "      <th>day_of_week</th>\n",
       "      <th>...</th>\n",
       "      <th>campaign</th>\n",
       "      <th>pdays</th>\n",
       "      <th>previous</th>\n",
       "      <th>poutcome</th>\n",
       "      <th>emp.var.rate</th>\n",
       "      <th>cons.price.idx</th>\n",
       "      <th>cons.conf.idx</th>\n",
       "      <th>euribor3m</th>\n",
       "      <th>nr.employed</th>\n",
       "      <th>y</th>\n",
       "    </tr>\n",
       "  </thead>\n",
       "  <tbody>\n",
       "    <tr>\n",
       "      <th>0</th>\n",
       "      <td>30</td>\n",
       "      <td>blue-collar</td>\n",
       "      <td>married</td>\n",
       "      <td>basic.9y</td>\n",
       "      <td>no</td>\n",
       "      <td>yes</td>\n",
       "      <td>no</td>\n",
       "      <td>cellular</td>\n",
       "      <td>may</td>\n",
       "      <td>fri</td>\n",
       "      <td>...</td>\n",
       "      <td>2</td>\n",
       "      <td>999</td>\n",
       "      <td>0</td>\n",
       "      <td>nonexistent</td>\n",
       "      <td>-1.8</td>\n",
       "      <td>92.893</td>\n",
       "      <td>-46.2</td>\n",
       "      <td>1.313</td>\n",
       "      <td>5099.1</td>\n",
       "      <td>no</td>\n",
       "    </tr>\n",
       "    <tr>\n",
       "      <th>1</th>\n",
       "      <td>39</td>\n",
       "      <td>services</td>\n",
       "      <td>single</td>\n",
       "      <td>high.school</td>\n",
       "      <td>no</td>\n",
       "      <td>no</td>\n",
       "      <td>no</td>\n",
       "      <td>telephone</td>\n",
       "      <td>may</td>\n",
       "      <td>fri</td>\n",
       "      <td>...</td>\n",
       "      <td>4</td>\n",
       "      <td>999</td>\n",
       "      <td>0</td>\n",
       "      <td>nonexistent</td>\n",
       "      <td>1.1</td>\n",
       "      <td>93.994</td>\n",
       "      <td>-36.4</td>\n",
       "      <td>4.855</td>\n",
       "      <td>5191.0</td>\n",
       "      <td>no</td>\n",
       "    </tr>\n",
       "    <tr>\n",
       "      <th>2</th>\n",
       "      <td>25</td>\n",
       "      <td>services</td>\n",
       "      <td>married</td>\n",
       "      <td>high.school</td>\n",
       "      <td>no</td>\n",
       "      <td>yes</td>\n",
       "      <td>no</td>\n",
       "      <td>telephone</td>\n",
       "      <td>jun</td>\n",
       "      <td>wed</td>\n",
       "      <td>...</td>\n",
       "      <td>1</td>\n",
       "      <td>999</td>\n",
       "      <td>0</td>\n",
       "      <td>nonexistent</td>\n",
       "      <td>1.4</td>\n",
       "      <td>94.465</td>\n",
       "      <td>-41.8</td>\n",
       "      <td>4.962</td>\n",
       "      <td>5228.1</td>\n",
       "      <td>no</td>\n",
       "    </tr>\n",
       "    <tr>\n",
       "      <th>3</th>\n",
       "      <td>38</td>\n",
       "      <td>services</td>\n",
       "      <td>married</td>\n",
       "      <td>basic.9y</td>\n",
       "      <td>no</td>\n",
       "      <td>unknown</td>\n",
       "      <td>unknown</td>\n",
       "      <td>telephone</td>\n",
       "      <td>jun</td>\n",
       "      <td>fri</td>\n",
       "      <td>...</td>\n",
       "      <td>3</td>\n",
       "      <td>999</td>\n",
       "      <td>0</td>\n",
       "      <td>nonexistent</td>\n",
       "      <td>1.4</td>\n",
       "      <td>94.465</td>\n",
       "      <td>-41.8</td>\n",
       "      <td>4.959</td>\n",
       "      <td>5228.1</td>\n",
       "      <td>no</td>\n",
       "    </tr>\n",
       "    <tr>\n",
       "      <th>4</th>\n",
       "      <td>47</td>\n",
       "      <td>admin.</td>\n",
       "      <td>married</td>\n",
       "      <td>university.degree</td>\n",
       "      <td>no</td>\n",
       "      <td>yes</td>\n",
       "      <td>no</td>\n",
       "      <td>cellular</td>\n",
       "      <td>nov</td>\n",
       "      <td>mon</td>\n",
       "      <td>...</td>\n",
       "      <td>1</td>\n",
       "      <td>999</td>\n",
       "      <td>0</td>\n",
       "      <td>nonexistent</td>\n",
       "      <td>-0.1</td>\n",
       "      <td>93.200</td>\n",
       "      <td>-42.0</td>\n",
       "      <td>4.191</td>\n",
       "      <td>5195.8</td>\n",
       "      <td>no</td>\n",
       "    </tr>\n",
       "  </tbody>\n",
       "</table>\n",
       "<p>5 rows × 21 columns</p>\n",
       "</div>"
      ],
      "text/plain": [
       "   age          job  marital          education default  housing     loan  \\\n",
       "0   30  blue-collar  married           basic.9y      no      yes       no   \n",
       "1   39     services   single        high.school      no       no       no   \n",
       "2   25     services  married        high.school      no      yes       no   \n",
       "3   38     services  married           basic.9y      no  unknown  unknown   \n",
       "4   47       admin.  married  university.degree      no      yes       no   \n",
       "\n",
       "     contact month day_of_week  ...  campaign  pdays  previous     poutcome  \\\n",
       "0   cellular   may         fri  ...         2    999         0  nonexistent   \n",
       "1  telephone   may         fri  ...         4    999         0  nonexistent   \n",
       "2  telephone   jun         wed  ...         1    999         0  nonexistent   \n",
       "3  telephone   jun         fri  ...         3    999         0  nonexistent   \n",
       "4   cellular   nov         mon  ...         1    999         0  nonexistent   \n",
       "\n",
       "  emp.var.rate  cons.price.idx  cons.conf.idx  euribor3m  nr.employed   y  \n",
       "0         -1.8          92.893          -46.2      1.313       5099.1  no  \n",
       "1          1.1          93.994          -36.4      4.855       5191.0  no  \n",
       "2          1.4          94.465          -41.8      4.962       5228.1  no  \n",
       "3          1.4          94.465          -41.8      4.959       5228.1  no  \n",
       "4         -0.1          93.200          -42.0      4.191       5195.8  no  \n",
       "\n",
       "[5 rows x 21 columns]"
      ]
     },
     "execution_count": 14,
     "metadata": {},
     "output_type": "execute_result"
    }
   ],
   "source": [
    "# Load training data\n",
    "filename1 = 'input\\\\A2-bank\\\\bank-additional.csv'\n",
    "#filename1 = 'input\\\\A2-bank\\\\bank-additional-full.csv'\n",
    "bank_df = pd.read_csv(filename1, delimiter=';', header=0)\n",
    "bank_df.head()"
   ]
  },
  {
   "cell_type": "markdown",
   "id": "a435b7cf-c1d9-4761-8beb-e252484f172e",
   "metadata": {},
   "source": [
    "<a id=\"data_preprocessing\"></a>\n",
    "## Data preprocessing"
   ]
  },
  {
   "cell_type": "markdown",
   "id": "32a6996d",
   "metadata": {},
   "source": [
    "### Input variables:\n",
    "\n",
    "Bank client data:\n",
    "\n",
    "1. age (numeric)\n",
    "   \n",
    "2. job: type of job (categorical: \"admin.\",\"blue-collar\",\"entrepreneur\",\"housemaid\",\"management\",\"retired\",\"self-employed\",\"services\",\"student\",\"technician\",\"unemployed\",\"unknown\")\n",
    "\n",
    "3. marital: marital status (categorical: \"divorced\",\"married\",\"single\",\"unknown\"; note: \"divorced\" means divorced or widowed)\n",
    "\n",
    "4. education (categorical: \"basic.4y\",\"basic.6y\",\"basic.9y\",\"high.school\",\"illiterate\",\"professional.course\",\"university.degree\",\"unknown\")\n",
    "\n",
    "5. default: has credit in default? (categorical: \"no\",\"yes\",\"unknown\")\n",
    "\n",
    "6. housing: has housing loan? (categorical: \"no\",\"yes\",\"unknown\")\n",
    "\n",
    "7. loan: has personal loan? (categorical: \"no\",\"yes\",\"unknown\")\n",
    "\n",
    "related with the last contact of the current campaign:\n",
    "\n",
    "8. contact: contact communication type (categorical: \"cellular\",\"telephone\")\n",
    "\n",
    "9. month: last contact month of year (categorical: \"jan\", \"feb\", \"mar\", ..., \"nov\", \"dec\")\n",
    "\n",
    "10. day_of_week: last contact day of the week (categorical: \"mon\",\"tue\",\"wed\",\"thu\",\"fri\")\n",
    "\n",
    "11. duration: last contact duration, in seconds (numeric). Important note:  this attribute highly affects the output target (e.g., if duration=0 then y=\"no\"). Yet, the duration is not known before a call is performed. Also, after the end of the call y is obviously known. Thus, this input should only be included for benchmark purposes and should be discarded if the intention is to have a realistic predictive model.\n",
    "\n",
    "other attributes:\n",
    "\n",
    "12. campaign: number of contacts performed during this campaign and for this client (numeric, includes last contact)\n",
    "\n",
    "13. pdays: number of days that passed by after the client was last contacted from a previous campaign (numeric; 999 means client was not previously contacted)\n",
    "\n",
    "14. previous: number of contacts performed before this campaign and for this client (numeric)\n",
    "\n",
    "15. poutcome: outcome of the previous marketing campaign (categorical: \"failure\",\"nonexistent\",\"success\")\n",
    "\n",
    "social and economic context attributes\n",
    "\n",
    "16. emp.var.rate: employment variation rate - quarterly indicator (numeric)\n",
    "\n",
    "17. cons.price.idx: consumer price index - monthly indicator (numeric)\n",
    "\n",
    "18. cons.conf.idx: consumer confidence index - monthly indicator (numeric)\n",
    "\n",
    "19. euribor3m: euribor 3 month rate - daily indicator (numeric)\n",
    "\n",
    "20. nr.employed: number of employees - quarterly indicator (numeric)\n",
    "\n",
    "Output variable (desired target):\n",
    "\n",
    "21. y - has the client subscribed a term deposit? (binary: \"yes\",\"no\")"
   ]
  },
  {
   "cell_type": "markdown",
   "id": "edfdd850-ef70-467a-95aa-b807a0ba420b",
   "metadata": {},
   "source": [
    "[LabelEncoder](https://scikit-learn.org/stable/modules/generated/sklearn.preprocessing.LabelEncoder.html) can be used to transform non-numerical labels (as long as they are hashable and comparable) to numerical labels."
   ]
  },
  {
   "cell_type": "code",
   "execution_count": 15,
   "id": "d72ec63c",
   "metadata": {},
   "outputs": [
    {
     "name": "stdout",
     "output_type": "stream",
     "text": [
      "['job', 'marital', 'education', 'default', 'housing', 'loan', 'contact', 'month', 'day_of_week', 'poutcome', 'y']\n",
      "      age  job  marital  education  default  housing  loan  contact  month  \\\n",
      "0      30    1        1          2        0        2     0        0      6   \n",
      "1      39    7        2          3        0        0     0        1      6   \n",
      "2      25    7        1          3        0        2     0        1      4   \n",
      "3      38    7        1          2        0        1     1        1      4   \n",
      "4      47    0        1          6        0        2     0        0      7   \n",
      "...   ...  ...      ...        ...      ...      ...   ...      ...    ...   \n",
      "4114   30    0        1          1        0        2     2        0      3   \n",
      "4115   39    0        1          3        0        2     0        1      3   \n",
      "4116   27    8        2          3        0        0     0        0      6   \n",
      "4117   58    0        1          3        0        0     0        0      1   \n",
      "4118   34    4        2          3        0        2     0        0      7   \n",
      "\n",
      "      day_of_week  ...  campaign  pdays  previous  poutcome  emp.var.rate  \\\n",
      "0               0  ...         2    999         0         1          -1.8   \n",
      "1               0  ...         4    999         0         1           1.1   \n",
      "2               4  ...         1    999         0         1           1.4   \n",
      "3               0  ...         3    999         0         1           1.4   \n",
      "4               1  ...         1    999         0         1          -0.1   \n",
      "...           ...  ...       ...    ...       ...       ...           ...   \n",
      "4114            2  ...         1    999         0         1           1.4   \n",
      "4115            0  ...         1    999         0         1           1.4   \n",
      "4116            1  ...         2    999         1         0          -1.8   \n",
      "4117            0  ...         1    999         0         1           1.4   \n",
      "4118            4  ...         1    999         0         1          -0.1   \n",
      "\n",
      "      cons.price.idx  cons.conf.idx  euribor3m  nr.employed  y  \n",
      "0             92.893          -46.2      1.313       5099.1  0  \n",
      "1             93.994          -36.4      4.855       5191.0  0  \n",
      "2             94.465          -41.8      4.962       5228.1  0  \n",
      "3             94.465          -41.8      4.959       5228.1  0  \n",
      "4             93.200          -42.0      4.191       5195.8  0  \n",
      "...              ...            ...        ...          ... ..  \n",
      "4114          93.918          -42.7      4.958       5228.1  0  \n",
      "4115          93.918          -42.7      4.959       5228.1  0  \n",
      "4116          92.893          -46.2      1.354       5099.1  0  \n",
      "4117          93.444          -36.1      4.966       5228.1  0  \n",
      "4118          93.200          -42.0      4.120       5195.8  0  \n",
      "\n",
      "[4119 rows x 21 columns]\n"
     ]
    }
   ],
   "source": [
    "# get all categorical columns in the dataframe\n",
    "catCols = [col for col in bank_df.columns if bank_df[col].dtype==\"O\"]\n",
    "print(catCols)\n",
    "\n",
    "lb_make = LabelEncoder()\n",
    "\n",
    "for item in catCols:\n",
    "    bank_df[item] = lb_make.fit_transform(bank_df[item])\n",
    "\n",
    "print(bank_df)"
   ]
  },
  {
   "cell_type": "code",
   "execution_count": 16,
   "id": "d138b31c",
   "metadata": {},
   "outputs": [
    {
     "name": "stdout",
     "output_type": "stream",
     "text": [
      "      age  job  marital  education  default  housing  loan  contact  month  \\\n",
      "1657   34    1        1          2        0        2     0        1      4   \n",
      "17     46    0        0          6        0        2     0        1      3   \n",
      "2293   32    8        2          3        1        2     0        1      6   \n",
      "2488   39    7        1          3        0        2     0        0      6   \n",
      "641    22    1        2          2        0        2     0        1      3   \n",
      "...   ...  ...      ...        ...      ...      ...   ...      ...    ...   \n",
      "618    31    0        1          6        0        0     0        1      6   \n",
      "4098   34    3        2          6        0        2     0        0      1   \n",
      "1601   46    9        1          5        0        0     0        0      7   \n",
      "3628   42    1        1          2        1        2     0        1      6   \n",
      "3968   24    7        2          3        0        0     2        0      6   \n",
      "\n",
      "      day_of_week  ...  campaign  pdays  previous  poutcome  emp.var.rate  \\\n",
      "1657            0  ...         2    999         0         1           1.4   \n",
      "17              1  ...         4    999         0         1           1.4   \n",
      "2293            3  ...         1    999         0         1           1.1   \n",
      "2488            2  ...         2      6         3         2          -1.8   \n",
      "641             1  ...         7    999         0         1           1.4   \n",
      "...           ...  ...       ...    ...       ...       ...           ...   \n",
      "618             4  ...         2    999         0         1           1.1   \n",
      "4098            2  ...         3    999         0         1           1.4   \n",
      "1601            1  ...         3    999         0         1          -0.1   \n",
      "3628            3  ...         1    999         0         1           1.1   \n",
      "3968            2  ...         1    999         1         0          -1.8   \n",
      "\n",
      "      cons.price.idx  cons.conf.idx  euribor3m  nr.employed  y  \n",
      "1657          94.465          -41.8      4.959       5228.1  0  \n",
      "17            93.918          -42.7      4.962       5228.1  0  \n",
      "2293          93.994          -36.4      4.856       5191.0  0  \n",
      "2488          93.876          -40.0      0.683       5008.7  1  \n",
      "641           93.918          -42.7      4.960       5228.1  0  \n",
      "...              ...            ...        ...          ... ..  \n",
      "618           93.994          -36.4      4.859       5191.0  0  \n",
      "4098          93.444          -36.1      4.963       5228.1  0  \n",
      "1601          93.200          -42.0      4.191       5195.8  0  \n",
      "3628          93.994          -36.4      4.857       5191.0  0  \n",
      "3968          92.893          -46.2      1.266       5099.1  0  \n",
      "\n",
      "[3295 rows x 21 columns]\n",
      "      age  job  marital  education  default  housing  loan  contact  month  \\\n",
      "1200   23    3        2          0        0        0     2        0      6   \n",
      "1824   32    7        1          3        0        0     0        0      0   \n",
      "2348   34    1        1          1        0        2     0        0      6   \n",
      "3748   29    4        2          6        0        0     0        1      6   \n",
      "679    30    9        2          3        0        0     0        0      1   \n",
      "...   ...  ...      ...        ...      ...      ...   ...      ...    ...   \n",
      "84     38    2        0          6        0        2     0        0      7   \n",
      "2492   30    7        1          3        0        0     0        1      6   \n",
      "1899   30    9        2          5        0        0     0        0      3   \n",
      "2714   27    1        1          0        0        2     0        0      6   \n",
      "1302   33    1        1          3        1        2     0        0      5   \n",
      "\n",
      "      day_of_week  ...  campaign  pdays  previous  poutcome  emp.var.rate  \\\n",
      "1200            2  ...         6    999         0         1          -1.8   \n",
      "1824            0  ...         1    999         0         1          -1.8   \n",
      "2348            3  ...         1    999         1         0          -1.8   \n",
      "3748            0  ...         1    999         0         1           1.1   \n",
      "679             1  ...         4    999         0         1           1.4   \n",
      "...           ...  ...       ...    ...       ...       ...           ...   \n",
      "84              2  ...         1    999         0         1          -0.1   \n",
      "2492            0  ...         2    999         0         1           1.1   \n",
      "1899            3  ...         1    999         0         1           1.4   \n",
      "2714            3  ...         1    999         0         1          -1.8   \n",
      "1302            3  ...         1    999         0         1          -1.8   \n",
      "\n",
      "      cons.price.idx  cons.conf.idx  euribor3m  nr.employed  y  \n",
      "1200          92.893          -46.2      1.266       5099.1  0  \n",
      "1824          93.075          -47.1      1.479       5099.1  0  \n",
      "2348          92.893          -46.2      1.344       5099.1  0  \n",
      "3748          93.994          -36.4      4.855       5191.0  0  \n",
      "679           93.444          -36.1      4.963       5228.1  1  \n",
      "...              ...            ...        ...          ... ..  \n",
      "84            93.200          -42.0      4.076       5195.8  0  \n",
      "2492          93.994          -36.4      4.864       5191.0  0  \n",
      "1899          93.918          -42.7      4.962       5228.1  0  \n",
      "2714          92.893          -46.2      1.291       5099.1  0  \n",
      "1302          92.843          -50.0      1.510       5099.1  0  \n",
      "\n",
      "[824 rows x 21 columns]\n"
     ]
    }
   ],
   "source": [
    "train_df, test_df = train_test_split(bank_df, test_size=0.2)\n",
    "print(train_df)\n",
    "print(test_df)"
   ]
  },
  {
   "cell_type": "markdown",
   "id": "46156221-2155-40cc-912a-599a4aa2bb11",
   "metadata": {
    "jp-MarkdownHeadingCollapsed": true,
    "tags": []
   },
   "source": [
    "<a id=\"cross_validation\"></a>\n",
    "## Cross validation"
   ]
  },
  {
   "cell_type": "markdown",
   "id": "a8a4bed0-fa11-47c9-902f-79829935c0ff",
   "metadata": {},
   "source": [
    "Using [k-fold cross-validation](https://scikit-learn.org/stable/modules/cross_validation.html#k-fold) in order to find good values for all the parameters of SVM: kernel, and parameters."
   ]
  },
  {
   "cell_type": "code",
   "execution_count": 19,
   "id": "8e4b88f5-57fe-4e23-a4ac-8b39ed4bc689",
   "metadata": {},
   "outputs": [
    {
     "name": "stdout",
     "output_type": "stream",
     "text": [
      "[0.3338306  0.28591392 0.33778509 0.3485118 ]\n",
      "0.3265103518321649\n"
     ]
    }
   ],
   "source": [
    "X_train = train_df.iloc[:,0:20].to_numpy()\n",
    "y_train = train_df.iloc[:,20].astype(int).to_numpy()\n",
    "\n",
    "clf = LinearRegression()\n",
    "# 4-fold cross-validation\n",
    "scores = cross_val_score(clf, X_train, y_train, cv=4)\n",
    "print(scores)\n",
    "print(np.mean(scores))"
   ]
  },
  {
   "cell_type": "markdown",
   "id": "c17f99b1-28f8-4358-ad93-860975abac3c",
   "metadata": {
    "jp-MarkdownHeadingCollapsed": true,
    "tags": []
   },
   "source": [
    "<a id=\"training\"></a>\n",
    "## Training (fit the model)"
   ]
  },
  {
   "cell_type": "code",
   "execution_count": 20,
   "id": "a0a6d2fa-3e87-4a69-a042-57934ed9b2a6",
   "metadata": {},
   "outputs": [
    {
     "data": {
      "text/plain": [
       "LinearRegression()"
      ]
     },
     "execution_count": 20,
     "metadata": {},
     "output_type": "execute_result"
    }
   ],
   "source": [
    "# Create model\n",
    "clf = LinearRegression()\n",
    "\n",
    "# Training\n",
    "clf.fit(X_train, y_train)"
   ]
  },
  {
   "cell_type": "markdown",
   "id": "7f405d59-a152-4e17-8ea1-d29758d95457",
   "metadata": {
    "jp-MarkdownHeadingCollapsed": true,
    "tags": []
   },
   "source": [
    "<a id=\"test\"></a>\n",
    "## Test (evaluate the model)"
   ]
  },
  {
   "cell_type": "code",
   "execution_count": 22,
   "id": "bcff9799-db80-4036-bb16-3a59428afb20",
   "metadata": {},
   "outputs": [
    {
     "name": "stdout",
     "output_type": "stream",
     "text": [
      "Model accuracy: 0.8932038834951457\n"
     ]
    },
    {
     "data": {
      "image/png": "[encoded data removed]",
      "text/plain": [
       "<Figure size 432x288 with 1 Axes>"
      ]
     },
     "metadata": {
      "needs_background": "light"
     },
     "output_type": "display_data"
    },
    {
     "data": {
      "image/png": "[encoded data removed]",
      "text/plain": [
       "<Figure size 432x288 with 2 Axes>"
      ]
     },
     "metadata": {
      "needs_background": "light"
     },
     "output_type": "display_data"
    },
    {
     "name": "stdout",
     "output_type": "stream",
     "text": [
      "Confusion matrix:\n",
      " [[700   9]\n",
      " [ 79  36]]\n",
      "Percentage classification error obtained from test set: 10.679611650485436%\n"
     ]
    }
   ],
   "source": [
    "X_test = test_df.iloc[:,0:20].to_numpy()\n",
    "y_test = test_df.iloc[:,20].astype(int).to_numpy()\n",
    "\n",
    "# Generate predictions\n",
    "y_pred = clf.predict(X_test)\n",
    "#print(y_pred)\n",
    "#print(y_test)\n",
    "plt.hist(y_pred, bins=50)\n",
    "\n",
    "# Use a threshold to select the probabilities that will determine class 0 or 1\n",
    "threshold = 0.5\n",
    "y_pred = np.where(y_pred > threshold, 1,0)\n",
    "\n",
    "# Evaluate by means of accuracy\n",
    "accuracy = accuracy_score(y_test.astype(int), y_pred.astype(int))\n",
    "print(f'Model accuracy: {accuracy}')\n",
    "\n",
    "# Evaluate by means of a confusion matrix\n",
    "disp = ConfusionMatrixDisplay.from_predictions(y_test.astype(int), y_pred.astype(int),\n",
    "                                               cmap=plt.cm.Blues,\n",
    "                                               normalize='true')\n",
    "plt.show()\n",
    "\n",
    "cm = confusion_matrix(y_test, y_pred)\n",
    "print('Confusion matrix:\\n', cm)\n",
    "\n",
    "# Calculate the percentage classification error obtained from test set\n",
    "percentage_classification_error = 100 * ((cm[0][1] + cm[1][0]) / (cm[0][0] + cm[1][1] + cm[0][1] + cm[1][0]))\n",
    "print(f'Percentage classification error obtained from test set: {percentage_classification_error}%')"
   ]
  },
  {
   "cell_type": "code",
   "execution_count": 9,
   "id": "10646ae8",
   "metadata": {},
   "outputs": [],
   "source": [
    "bank_mlr_results = {'real_value': y_test,\n",
    "                    'prediction': y_pred}\n",
    "  \n",
    "df = pd.DataFrame(bank_mlr_results)\n",
    "\n",
    "df.to_csv('bank_mlr_results.csv')"
   ]
  },
  {
   "cell_type": "markdown",
   "id": "a2182865-5a3c-497c-b78c-d1edcc321a73",
   "metadata": {
    "tags": []
   },
   "source": [
    "<a id=\"references\"></a>\n",
    "## References:\n",
    "\n",
    "Linear Regression:\n",
    "\n",
    "- Classification in Python with Scikit-Learn and Pandas: https://stackabuse.com/classification-in-python-with-scikit-learn-and-pandas/"
   ]
  }
 ],
 "metadata": {
  "kernelspec": {
   "display_name": "Python 3 (ipykernel)",
   "language": "python",
   "name": "python3"
  },
  "language_info": {
   "codemirror_mode": {
    "name": "ipython",
    "version": 3
   },
   "file_extension": ".py",
   "mimetype": "text/x-python",
   "name": "python",
   "nbconvert_exporter": "python",
   "pygments_lexer": "ipython3",
   "version": "3.9.7"
  }
 },
 "nbformat": 4,
 "nbformat_minor": 5
}
