{
 "cells": [
  {
   "cell_type": "markdown",
   "id": "6fb35b37-7059-4306-8ba0-b018d00ee1f7",
   "metadata": {
    "tags": []
   },
   "source": [
    "# Classification with Support Vector Machines (SVM), banknote"
   ]
  },
  {
   "cell_type": "markdown",
   "id": "73dff0ba-7e87-4a00-a55c-c40046580439",
   "metadata": {},
   "source": [
    "Make non-linear transformation of data and apply LSVM."
   ]
  },
  {
   "cell_type": "markdown",
   "id": "2902b1ef-979e-4e1c-82d2-d18f34585a78",
   "metadata": {
    "tags": []
   },
   "source": [
    "## Index\n",
    "<nav>\n",
    "\n",
    "* [Import modules](#import_modules)\n",
    "* [Loading data](#loading_data)\n",
    "* [Data preprocessing](#data_preprocessing)\n",
    "* [Cross validation](#cross_validation)\n",
    "* [Training (fit the model)](#training)\n",
    "* [Test (evaluate the model)](#test)\n",
    "* [References](#references)\n",
    "</nav>"
   ]
  },
  {
   "cell_type": "markdown",
   "id": "764d20e7-1615-4086-849c-546747540c94",
   "metadata": {
    "tags": []
   },
   "source": [
    "<a id=\"import_modules\"></a>\n",
    "## Import modules"
   ]
  },
  {
   "cell_type": "code",
   "execution_count": 2,
   "id": "15fc918d-8adb-477b-ac0a-b3f6cc0a11aa",
   "metadata": {
    "tags": []
   },
   "outputs": [],
   "source": [
    "import pandas as pd\n",
    "import numpy as np\n",
    "import matplotlib.pyplot as plt\n",
    "from sklearn.svm import SVC\n",
    "from sklearn.metrics import confusion_matrix, ConfusionMatrixDisplay, accuracy_score\n",
    "from sklearn.model_selection import KFold\n",
    "from sklearn.preprocessing import MinMaxScaler\n",
    "from sklearn.model_selection import train_test_split"
   ]
  },
  {
   "cell_type": "markdown",
   "id": "78b748b6-77b4-4ebc-b59a-ec9fcb07315c",
   "metadata": {
    "tags": []
   },
   "source": [
    "<a id=\"loading_data\"></a>\n",
    "## Loading data"
   ]
  },
  {
   "cell_type": "code",
   "execution_count": 8,
   "id": "b9294084-c748-44b4-9c5d-3cea48a0713c",
   "metadata": {
    "tags": []
   },
   "outputs": [
    {
     "data": {
      "text/html": [
       "<div>\n",
       "<style scoped>\n",
       "    .dataframe tbody tr th:only-of-type {\n",
       "        vertical-align: middle;\n",
       "    }\n",
       "\n",
       "    .dataframe tbody tr th {\n",
       "        vertical-align: top;\n",
       "    }\n",
       "\n",
       "    .dataframe thead th {\n",
       "        text-align: right;\n",
       "    }\n",
       "</style>\n",
       "<table border=\"1\" class=\"dataframe\">\n",
       "  <thead>\n",
       "    <tr style=\"text-align: right;\">\n",
       "      <th></th>\n",
       "      <th>0</th>\n",
       "      <th>1</th>\n",
       "      <th>2</th>\n",
       "      <th>3</th>\n",
       "      <th>4</th>\n",
       "    </tr>\n",
       "  </thead>\n",
       "  <tbody>\n",
       "    <tr>\n",
       "      <th>0</th>\n",
       "      <td>3.62160</td>\n",
       "      <td>8.6661</td>\n",
       "      <td>-2.8073</td>\n",
       "      <td>-0.44699</td>\n",
       "      <td>0</td>\n",
       "    </tr>\n",
       "    <tr>\n",
       "      <th>1</th>\n",
       "      <td>4.54590</td>\n",
       "      <td>8.1674</td>\n",
       "      <td>-2.4586</td>\n",
       "      <td>-1.46210</td>\n",
       "      <td>0</td>\n",
       "    </tr>\n",
       "    <tr>\n",
       "      <th>2</th>\n",
       "      <td>3.86600</td>\n",
       "      <td>-2.6383</td>\n",
       "      <td>1.9242</td>\n",
       "      <td>0.10645</td>\n",
       "      <td>0</td>\n",
       "    </tr>\n",
       "    <tr>\n",
       "      <th>3</th>\n",
       "      <td>3.45660</td>\n",
       "      <td>9.5228</td>\n",
       "      <td>-4.0112</td>\n",
       "      <td>-3.59440</td>\n",
       "      <td>0</td>\n",
       "    </tr>\n",
       "    <tr>\n",
       "      <th>4</th>\n",
       "      <td>0.32924</td>\n",
       "      <td>-4.4552</td>\n",
       "      <td>4.5718</td>\n",
       "      <td>-0.98880</td>\n",
       "      <td>0</td>\n",
       "    </tr>\n",
       "  </tbody>\n",
       "</table>\n",
       "</div>"
      ],
      "text/plain": [
       "         0       1       2        3  4\n",
       "0  3.62160  8.6661 -2.8073 -0.44699  0\n",
       "1  4.54590  8.1674 -2.4586 -1.46210  0\n",
       "2  3.86600 -2.6383  1.9242  0.10645  0\n",
       "3  3.45660  9.5228 -4.0112 -3.59440  0\n",
       "4  0.32924 -4.4552  4.5718 -0.98880  0"
      ]
     },
     "execution_count": 8,
     "metadata": {},
     "output_type": "execute_result"
    }
   ],
   "source": [
    "# Load training data\n",
    "filename1 = 'input\\\\data_banknote_authentication.txt'\n",
    "banknote_df = pd.read_csv(filename1, delimiter=',', header=None)\n",
    "banknote_df.head()"
   ]
  },
  {
   "cell_type": "markdown",
   "id": "a435b7cf-c1d9-4761-8beb-e252484f172e",
   "metadata": {},
   "source": [
    "<a id=\"data_preprocessing\"></a>\n",
    "## Data preprocessing"
   ]
  },
  {
   "cell_type": "code",
   "execution_count": 10,
   "id": "223e32ce",
   "metadata": {},
   "outputs": [],
   "source": [
    "min_max_scaler = MinMaxScaler()\n",
    "x_scaled = min_max_scaler.fit_transform(banknote_df)\n",
    "banknote_df = pd.DataFrame(x_scaled)"
   ]
  },
  {
   "cell_type": "code",
   "execution_count": 11,
   "id": "d138b31c",
   "metadata": {},
   "outputs": [
    {
     "name": "stdout",
     "output_type": "stream",
     "text": [
      "             0         1         2         3    4\n",
      "323   0.787927  0.890592  0.058427  0.406112  0.0\n",
      "163   0.680967  0.865581  0.083124  0.472426  0.0\n",
      "58    0.734108  0.361594  0.424589  0.867257  0.0\n",
      "923   0.538722  0.479829  0.181489  0.806469  1.0\n",
      "938   0.192170  0.308943  0.698951  0.740155  1.0\n",
      "...        ...       ...       ...       ...  ...\n",
      "1211  0.190771  0.700970  0.199762  0.279722  1.0\n",
      "309   0.814162  0.803328  0.108407  0.679369  0.0\n",
      "1148  0.488614  0.491212  0.209618  0.858321  1.0\n",
      "1244  0.225119  0.667749  0.217517  0.584950  1.0\n",
      "1289  0.406197  0.435848  0.223238  0.759791  1.0\n",
      "\n",
      "[1097 rows x 5 columns]\n",
      "             0         1         2         3    4\n",
      "624   0.843613  0.801240  0.123282  0.664666  0.0\n",
      "783   0.541994  0.641115  0.033588  0.409640  1.0\n",
      "648   0.563915  0.739062  0.279157  0.745210  0.0\n",
      "262   0.638463  0.800001  0.185552  0.552970  0.0\n",
      "549   0.762312  0.542160  0.311750  0.953445  0.0\n",
      "...        ...       ...       ...       ...  ...\n",
      "664   0.894266  0.655903  0.152997  0.875374  0.0\n",
      "528   0.769206  0.570034  0.285877  0.952617  0.0\n",
      "1076  0.467916  0.218891  0.517014  0.844917  1.0\n",
      "166   0.588358  0.839025  0.186253  0.612583  0.0\n",
      "866   0.209218  0.644909  0.207108  0.423752  1.0\n",
      "\n",
      "[275 rows x 5 columns]\n"
     ]
    }
   ],
   "source": [
    "train_df, test_df = train_test_split(banknote_df, test_size=0.2)\n",
    "print(train_df)\n",
    "print(test_df)"
   ]
  },
  {
   "cell_type": "markdown",
   "id": "46156221-2155-40cc-912a-599a4aa2bb11",
   "metadata": {
    "jp-MarkdownHeadingCollapsed": true,
    "tags": []
   },
   "source": [
    "<a id=\"cross_validation\"></a>\n",
    "## Cross validation"
   ]
  },
  {
   "cell_type": "markdown",
   "id": "a8a4bed0-fa11-47c9-902f-79829935c0ff",
   "metadata": {},
   "source": [
    "Using [k-fold cross-validation](https://scikit-learn.org/stable/modules/cross_validation.html#k-fold) in order to find good values for all the parameters of SVM: kernel, and parameters."
   ]
  },
  {
   "cell_type": "code",
   "execution_count": 16,
   "id": "8e4b88f5-57fe-4e23-a4ac-8b39ed4bc689",
   "metadata": {},
   "outputs": [
    {
     "name": "stdout",
     "output_type": "stream",
     "text": [
      "K-fold ---------------------------------------------------------------\n",
      "Model accuracy: 1.0\n"
     ]
    },
    {
     "data": {
      "image/png": "[encoded data removed]",
      "text/plain": [
       "<Figure size 432x288 with 2 Axes>"
      ]
     },
     "metadata": {
      "needs_background": "light"
     },
     "output_type": "display_data"
    },
    {
     "name": "stdout",
     "output_type": "stream",
     "text": [
      "Confusion matrix:\n",
      " [[165   0]\n",
      " [  0 110]]\n",
      "Percentage classification error obtained from validation set: 0.0%\n",
      "K-fold ---------------------------------------------------------------\n",
      "Model accuracy: 1.0\n"
     ]
    },
    {
     "data": {
      "image/png": "[encoded data removed]",
      "text/plain": [
       "<Figure size 432x288 with 2 Axes>"
      ]
     },
     "metadata": {
      "needs_background": "light"
     },
     "output_type": "display_data"
    },
    {
     "name": "stdout",
     "output_type": "stream",
     "text": [
      "Confusion matrix:\n",
      " [[144   0]\n",
      " [  0 130]]\n",
      "Percentage classification error obtained from validation set: 0.0%\n",
      "K-fold ---------------------------------------------------------------\n",
      "Model accuracy: 1.0\n"
     ]
    },
    {
     "data": {
      "image/png": "[encoded data removed]",
      "text/plain": [
       "<Figure size 432x288 with 2 Axes>"
      ]
     },
     "metadata": {
      "needs_background": "light"
     },
     "output_type": "display_data"
    },
    {
     "name": "stdout",
     "output_type": "stream",
     "text": [
      "Confusion matrix:\n",
      " [[145   0]\n",
      " [  0 129]]\n",
      "Percentage classification error obtained from validation set: 0.0%\n",
      "K-fold ---------------------------------------------------------------\n",
      "Model accuracy: 1.0\n"
     ]
    },
    {
     "data": {
      "image/png": "[encoded data removed]",
      "text/plain": [
       "<Figure size 432x288 with 2 Axes>"
      ]
     },
     "metadata": {
      "needs_background": "light"
     },
     "output_type": "display_data"
    },
    {
     "name": "stdout",
     "output_type": "stream",
     "text": [
      "Confusion matrix:\n",
      " [[148   0]\n",
      " [  0 126]]\n",
      "Percentage classification error obtained from validation set: 0.0%\n",
      "Mean percentage classification error obtained from cross validation: 0.0%\n"
     ]
    }
   ],
   "source": [
    "X_train = train_df.iloc[:,0:4].to_numpy()\n",
    "y_train = train_df.iloc[:,4].astype(int).to_numpy()\n",
    "\n",
    "cv_percentage_classification_errors = list()\n",
    "\n",
    "# 4-fold cross-validation\n",
    "kf = KFold(n_splits=4)\n",
    "for train, validation in kf.split(X_train):\n",
    "    print('K-fold ---------------------------------------------------------------')\n",
    "    \n",
    "    # Create the SVM estimator\n",
    "    clf = SVC(kernel='rbf', random_state=0)\n",
    "    \n",
    "    # Train the model using the training set\n",
    "    clf.fit(X_train[train], y_train[train])\n",
    "\n",
    "    # Generate predictions\n",
    "    y_pred = clf.predict(X_train[validation])\n",
    "    \n",
    "    # Evaluate by means of accuracy\n",
    "    accuracy = accuracy_score(y_train[validation], y_pred)\n",
    "    print(f'Model accuracy: {accuracy}')\n",
    "    \n",
    "    # Evaluate by means of a confusion matrix\n",
    "    disp = ConfusionMatrixDisplay.from_predictions(y_train[validation], y_pred,\n",
    "                                                   labels=clf.classes_,\n",
    "                                                   display_labels=clf.classes_,\n",
    "                                                   cmap=plt.cm.Blues,\n",
    "                                                   normalize='true')\n",
    "    plt.show()\n",
    "    \n",
    "    cm = confusion_matrix(y_train[validation], y_pred)\n",
    "    print('Confusion matrix:\\n', cm)\n",
    "\n",
    "    # Calculate the percentage classification error obtained from validation test\n",
    "    percentage_classification_error = 100 * ((cm[0][1] + cm[1][0]) / (cm[0][0] + cm[1][1] + cm[0][1] + cm[1][0]))\n",
    "    print(f'Percentage classification error obtained from validation set: {percentage_classification_error}%')\n",
    "    \n",
    "    cv_percentage_classification_errors.append(percentage_classification_error)\n",
    "    \n",
    "# Calculate the mean percentage classification error obtained from cross-validation\n",
    "print(f'Mean percentage classification error obtained from cross validation: {np.mean(cv_percentage_classification_errors)}%')"
   ]
  },
  {
   "cell_type": "markdown",
   "id": "c17f99b1-28f8-4358-ad93-860975abac3c",
   "metadata": {
    "jp-MarkdownHeadingCollapsed": true,
    "tags": []
   },
   "source": [
    "<a id=\"training\"></a>\n",
    "## Training (fit the model)"
   ]
  },
  {
   "cell_type": "code",
   "execution_count": 17,
   "id": "a0a6d2fa-3e87-4a69-a042-57934ed9b2a6",
   "metadata": {},
   "outputs": [
    {
     "name": "stdout",
     "output_type": "stream",
     "text": [
      "Names and current values for all parameters for the estimator:  {'C': 1.0, 'break_ties': False, 'cache_size': 200, 'class_weight': None, 'coef0': 0.0, 'decision_function_shape': 'ovr', 'degree': 3, 'gamma': 'scale', 'kernel': 'rbf', 'max_iter': -1, 'probability': False, 'random_state': 0, 'shrinking': True, 'tol': 0.001, 'verbose': False}\n"
     ]
    },
    {
     "data": {
      "text/plain": [
       "SVC(random_state=0)"
      ]
     },
     "execution_count": 17,
     "metadata": {},
     "output_type": "execute_result"
    }
   ],
   "source": [
    "# Create the SVM estimator\n",
    "clf = SVC(kernel='rbf', random_state=0)\n",
    "print('Names and current values for all parameters for the estimator: ', clf.get_params())\n",
    "\n",
    "# Train the model using 'all' the training set\n",
    "clf.fit(X_train, y_train)"
   ]
  },
  {
   "cell_type": "markdown",
   "id": "7f405d59-a152-4e17-8ea1-d29758d95457",
   "metadata": {
    "jp-MarkdownHeadingCollapsed": true,
    "tags": []
   },
   "source": [
    "<a id=\"test\"></a>\n",
    "## Test (evaluate the model)"
   ]
  },
  {
   "cell_type": "code",
   "execution_count": 19,
   "id": "bcff9799-db80-4036-bb16-3a59428afb20",
   "metadata": {},
   "outputs": [
    {
     "name": "stdout",
     "output_type": "stream",
     "text": [
      "Model accuracy: 1.0\n"
     ]
    },
    {
     "data": {
      "image/png": "[encoded data removed]",
      "text/plain": [
       "<Figure size 432x288 with 2 Axes>"
      ]
     },
     "metadata": {
      "needs_background": "light"
     },
     "output_type": "display_data"
    },
    {
     "name": "stdout",
     "output_type": "stream",
     "text": [
      "Confusion matrix:\n",
      " [[160   0]\n",
      " [  0 115]]\n",
      "Percentage classification error obtained from test set: 0.0%\n"
     ]
    }
   ],
   "source": [
    "X_test = test_df.iloc[:,0:4].to_numpy()\n",
    "y_test = test_df.iloc[:,4].astype(int).to_numpy()\n",
    "\n",
    "# Generate predictions\n",
    "y_pred = clf.predict(X_test)\n",
    "\n",
    "# Evaluate by means of accuracy\n",
    "accuracy = accuracy_score(y_test, y_pred)\n",
    "print(f'Model accuracy: {accuracy}')\n",
    "\n",
    "# Evaluate by means of a confusion matrix\n",
    "disp = ConfusionMatrixDisplay.from_predictions(y_test, y_pred,\n",
    "                                               labels=clf.classes_,\n",
    "                                               display_labels=clf.classes_,\n",
    "                                               cmap=plt.cm.Blues,\n",
    "                                               normalize='true')\n",
    "plt.show()\n",
    "\n",
    "cm = confusion_matrix(y_test, y_pred)\n",
    "print('Confusion matrix:\\n', cm)\n",
    "\n",
    "# Calculate the percentage classification error obtained from test set\n",
    "percentage_classification_error = 100 * ((cm[0][1] + cm[1][0]) / (cm[0][0] + cm[1][1] + cm[0][1] + cm[1][0]))\n",
    "print(f'Percentage classification error obtained from test set: {percentage_classification_error}%')"
   ]
  },
  {
   "cell_type": "code",
   "execution_count": 20,
   "id": "9d36c76a",
   "metadata": {},
   "outputs": [],
   "source": [
    "banknote_svm_results = {'real_value': y_test,\n",
    "                    'prediction': y_pred}\n",
    "  \n",
    "df = pd.DataFrame(banknote_svm_results)\n",
    "\n",
    "df.to_csv('banknote_svm_results.csv')"
   ]
  },
  {
   "cell_type": "markdown",
   "id": "a2182865-5a3c-497c-b78c-d1edcc321a73",
   "metadata": {
    "tags": []
   },
   "source": [
    "<a id=\"references\"></a>\n",
    "## References:\n",
    "\n",
    "Support Vector Machines:\n",
    "\n",
    "- [A Practical Guide to Support Vector Classification](https://www.csie.ntu.edu.tw/~cjlin/papers/guide/guide.pdf)\n",
    "- https://scikit-learn.org/stable/modules/svm.html#classification\n",
    "- [Support Vector Classification](https://scikit-learn.org/stable/modules/generated/sklearn.svm.SVC.html#sklearn.svm.SVC)\n",
    "- https://www.datacamp.com/community/tutorials/svm-classification-scikit-learn-python\n",
    "- [How do I select SVM kernels?](https://sebastianraschka.com/faq/docs/select_svm_kernels.html)\n",
    "- [RBF SVMs with Python and Scikit-learn: an Example](https://www.machinecurve.com/index.php/2020/11/25/using-radial-basis-functions-for-svms-with-python-and-scikit-learn/#:~:text=the%20RBF%20kernel.-,RBF%20SVMs%20with%20Python%20and%20Scikit%2Dlearn%3A%20an%20Example,-We%20can%20easily)\n",
    "- [RBF SVM parameters](https://scikit-learn.org/stable/auto_examples/svm/plot_rbf_parameters.html)\n",
    "\n",
    "Data Visualization:\n",
    "\n",
    "- [Seaborn Library for Data Visualization in Python: Part 1](https://stackabuse.com/seaborn-library-for-data-visualization-in-python-part-1)\n",
    "\n",
    "Cross Validation:\n",
    "\n",
    "- [Cross-validation: evaluating estimator performance](https://scikit-learn.org/stable/modules/cross_validation.html#cross-validation)\n",
    "- [Tuning the hyper-parameters of an estimator](https://scikit-learn.org/stable/modules/grid_search.html#tuning-the-hyper-parameters-of-an-estimato)\n",
    "- [Parameter estimation using grid search with cross-validation](https://scikit-learn.org/stable/auto_examples/model_selection/plot_grid_search_digits.html#sphx-glr-auto-examples-model-selection-plot-grid-search-digits-py)\n",
    "\n",
    "Data Preprocessing:\n",
    "\n",
    "- [sklearn.preprocessing.LabelEncoder](https://scikit-learn.org/stable/modules/generated/sklearn.preprocessing.LabelEncoder.html)\n",
    "- [Guide to Encoding Categorical Values in Python](https://pbpython.com/categorical-encoding.html)"
   ]
  }
 ],
 "metadata": {
  "kernelspec": {
   "display_name": "Python 3 (ipykernel)",
   "language": "python",
   "name": "python3"
  },
  "language_info": {
   "codemirror_mode": {
    "name": "ipython",
    "version": 3
   },
   "file_extension": ".py",
   "mimetype": "text/x-python",
   "name": "python",
   "nbconvert_exporter": "python",
   "pygments_lexer": "ipython3",
   "version": "3.9.7"
  }
 },
 "nbformat": 4,
 "nbformat_minor": 5
}
