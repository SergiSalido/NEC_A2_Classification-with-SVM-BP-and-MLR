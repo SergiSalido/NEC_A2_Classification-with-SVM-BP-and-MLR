{
 "cells": [
  {
   "cell_type": "markdown",
   "id": "6fb35b37-7059-4306-8ba0-b018d00ee1f7",
   "metadata": {
    "tags": []
   },
   "source": [
    "# Classification with Multiple Linear Regression (MLR), banknote authentication"
   ]
  },
  {
   "cell_type": "markdown",
   "id": "2902b1ef-979e-4e1c-82d2-d18f34585a78",
   "metadata": {
    "tags": []
   },
   "source": [
    "## Index\n",
    "<nav>\n",
    "\n",
    "* [Import modules](#import_modules)\n",
    "* [Loading data](#loading_data)\n",
    "* [Data preprocessing](#data_preprocessing)\n",
    "* [Cross validation](#cross_validation)\n",
    "* [Training (fit the model)](#training)\n",
    "* [Test (evaluate the model)](#test)\n",
    "* [References](#references)\n",
    "</nav>"
   ]
  },
  {
   "cell_type": "markdown",
   "id": "764d20e7-1615-4086-849c-546747540c94",
   "metadata": {
    "jp-MarkdownHeadingCollapsed": true,
    "tags": []
   },
   "source": [
    "<a id=\"import_modules\"></a>\n",
    "## Import modules"
   ]
  },
  {
   "cell_type": "code",
   "execution_count": 5,
   "id": "15fc918d-8adb-477b-ac0a-b3f6cc0a11aa",
   "metadata": {
    "tags": []
   },
   "outputs": [],
   "source": [
    "import pandas as pd\n",
    "from sklearn.linear_model import LinearRegression\n",
    "from sklearn.model_selection import KFold, train_test_split, cross_val_score\n",
    "import numpy as np\n",
    "import matplotlib.pyplot as plt\n",
    "from sklearn.metrics import confusion_matrix, ConfusionMatrixDisplay, accuracy_score\n",
    "from sklearn.preprocessing import MinMaxScaler"
   ]
  },
  {
   "cell_type": "markdown",
   "id": "78b748b6-77b4-4ebc-b59a-ec9fcb07315c",
   "metadata": {
    "jp-MarkdownHeadingCollapsed": true,
    "tags": []
   },
   "source": [
    "<a id=\"loading_data\"></a>\n",
    "## Loading data"
   ]
  },
  {
   "cell_type": "code",
   "execution_count": 4,
   "id": "b9294084-c748-44b4-9c5d-3cea48a0713c",
   "metadata": {
    "tags": []
   },
   "outputs": [
    {
     "data": {
      "text/html": [
       "<div>\n",
       "<style scoped>\n",
       "    .dataframe tbody tr th:only-of-type {\n",
       "        vertical-align: middle;\n",
       "    }\n",
       "\n",
       "    .dataframe tbody tr th {\n",
       "        vertical-align: top;\n",
       "    }\n",
       "\n",
       "    .dataframe thead th {\n",
       "        text-align: right;\n",
       "    }\n",
       "</style>\n",
       "<table border=\"1\" class=\"dataframe\">\n",
       "  <thead>\n",
       "    <tr style=\"text-align: right;\">\n",
       "      <th></th>\n",
       "      <th>0</th>\n",
       "      <th>1</th>\n",
       "      <th>2</th>\n",
       "      <th>3</th>\n",
       "      <th>4</th>\n",
       "    </tr>\n",
       "  </thead>\n",
       "  <tbody>\n",
       "    <tr>\n",
       "      <th>0</th>\n",
       "      <td>3.62160</td>\n",
       "      <td>8.6661</td>\n",
       "      <td>-2.8073</td>\n",
       "      <td>-0.44699</td>\n",
       "      <td>0</td>\n",
       "    </tr>\n",
       "    <tr>\n",
       "      <th>1</th>\n",
       "      <td>4.54590</td>\n",
       "      <td>8.1674</td>\n",
       "      <td>-2.4586</td>\n",
       "      <td>-1.46210</td>\n",
       "      <td>0</td>\n",
       "    </tr>\n",
       "    <tr>\n",
       "      <th>2</th>\n",
       "      <td>3.86600</td>\n",
       "      <td>-2.6383</td>\n",
       "      <td>1.9242</td>\n",
       "      <td>0.10645</td>\n",
       "      <td>0</td>\n",
       "    </tr>\n",
       "    <tr>\n",
       "      <th>3</th>\n",
       "      <td>3.45660</td>\n",
       "      <td>9.5228</td>\n",
       "      <td>-4.0112</td>\n",
       "      <td>-3.59440</td>\n",
       "      <td>0</td>\n",
       "    </tr>\n",
       "    <tr>\n",
       "      <th>4</th>\n",
       "      <td>0.32924</td>\n",
       "      <td>-4.4552</td>\n",
       "      <td>4.5718</td>\n",
       "      <td>-0.98880</td>\n",
       "      <td>0</td>\n",
       "    </tr>\n",
       "  </tbody>\n",
       "</table>\n",
       "</div>"
      ],
      "text/plain": [
       "         0       1       2        3  4\n",
       "0  3.62160  8.6661 -2.8073 -0.44699  0\n",
       "1  4.54590  8.1674 -2.4586 -1.46210  0\n",
       "2  3.86600 -2.6383  1.9242  0.10645  0\n",
       "3  3.45660  9.5228 -4.0112 -3.59440  0\n",
       "4  0.32924 -4.4552  4.5718 -0.98880  0"
      ]
     },
     "execution_count": 4,
     "metadata": {},
     "output_type": "execute_result"
    }
   ],
   "source": [
    "# Load training data\n",
    "filename1 = 'input\\\\data_banknote_authentication.txt'\n",
    "banknote_df = pd.read_csv(filename1, delimiter=',', header=None)\n",
    "banknote_df.head()"
   ]
  },
  {
   "cell_type": "markdown",
   "id": "a435b7cf-c1d9-4761-8beb-e252484f172e",
   "metadata": {},
   "source": [
    "<a id=\"data_preprocessing\"></a>\n",
    "## Data preprocessing"
   ]
  },
  {
   "cell_type": "code",
   "execution_count": null,
   "id": "03fce92c",
   "metadata": {},
   "outputs": [],
   "source": [
    "min_max_scaler = MinMaxScaler()\n",
    "x_scaled = min_max_scaler.fit_transform(banknote_df)\n",
    "banknote_df = pd.DataFrame(x_scaled)"
   ]
  },
  {
   "cell_type": "code",
   "execution_count": 6,
   "id": "d138b31c",
   "metadata": {},
   "outputs": [
    {
     "name": "stdout",
     "output_type": "stream",
     "text": [
      "            0        1        2        3  4\n",
      "1321 -1.99660 -9.50010  9.68200 -0.12889  1\n",
      "174   1.87990  2.47070  2.49310  0.37671  0\n",
      "63    1.79390 -1.11740  1.54540 -0.26079  0\n",
      "419   1.95720 -5.11530  8.61270 -1.42970  0\n",
      "1123  0.26637  0.73252 -0.67891  0.03533  1\n",
      "...       ...      ...      ...      ... ..\n",
      "83    1.86640  7.77630 -0.23849 -2.96340  0\n",
      "469   0.18480  6.50790  2.01330 -0.87242  0\n",
      "1263 -0.87834  3.25700 -3.67780 -3.29440  1\n",
      "634   6.82480  5.21870 -2.54250  0.54610  0\n",
      "1030 -1.84390 -8.64750  7.67960 -0.66682  1\n",
      "\n",
      "[1097 rows x 5 columns]\n",
      "            0        1        2         3  4\n",
      "285   1.77470  -6.4334  8.15000 -0.898280  0\n",
      "288   0.44125   2.9487  4.32250  0.715500  0\n",
      "113   4.21880   6.8162 -1.28040  0.760760  0\n",
      "874  -2.79900   1.9679 -0.42357 -2.112500  1\n",
      "996  -2.31420   2.0838 -0.46813 -1.676700  1\n",
      "...       ...      ...      ...       ... ..\n",
      "1275 -3.09860 -10.4602  8.97170 -2.342700  1\n",
      "184  -1.75590  11.9459  3.09460 -4.897800  0\n",
      "170   0.57060  -0.0248  1.24210 -0.562100  0\n",
      "156   2.42260  -4.5752  5.94700  0.215070  0\n",
      "663   3.77980  -3.3109  2.64910  0.066365  0\n",
      "\n",
      "[275 rows x 5 columns]\n"
     ]
    }
   ],
   "source": [
    "train_df, test_df = train_test_split(banknote_df, test_size=0.2)\n",
    "print(train_df)\n",
    "print(test_df)"
   ]
  },
  {
   "cell_type": "markdown",
   "id": "46156221-2155-40cc-912a-599a4aa2bb11",
   "metadata": {
    "jp-MarkdownHeadingCollapsed": true,
    "tags": []
   },
   "source": [
    "<a id=\"cross_validation\"></a>\n",
    "## Cross validation"
   ]
  },
  {
   "cell_type": "markdown",
   "id": "a8a4bed0-fa11-47c9-902f-79829935c0ff",
   "metadata": {},
   "source": [
    "Using [k-fold cross-validation](https://scikit-learn.org/stable/modules/cross_validation.html#k-fold) in order to find good values for all the parameters of SVM: kernel, and parameters."
   ]
  },
  {
   "cell_type": "code",
   "execution_count": 18,
   "id": "8e4b88f5-57fe-4e23-a4ac-8b39ed4bc689",
   "metadata": {},
   "outputs": [
    {
     "name": "stdout",
     "output_type": "stream",
     "text": [
      "[0.13853471 0.1454795  0.12270476 0.14246801]\n",
      "0.13729674558289073\n"
     ]
    }
   ],
   "source": [
    "X_train = train_df.iloc[:,0:4].to_numpy()\n",
    "y_train = train_df.iloc[:,4].astype(int).to_numpy()\n",
    "\n",
    "clf = LinearRegression()\n",
    "# 4-fold cross-validation\n",
    "scores = cross_val_score(clf, X_train, y_train, cv=4)\n",
    "print(1 - scores)\n",
    "print(1 - np.mean(scores))"
   ]
  },
  {
   "cell_type": "markdown",
   "id": "c17f99b1-28f8-4358-ad93-860975abac3c",
   "metadata": {
    "jp-MarkdownHeadingCollapsed": true,
    "tags": []
   },
   "source": [
    "<a id=\"training\"></a>\n",
    "## Training (fit the model)"
   ]
  },
  {
   "cell_type": "code",
   "execution_count": 11,
   "id": "a0a6d2fa-3e87-4a69-a042-57934ed9b2a6",
   "metadata": {},
   "outputs": [
    {
     "data": {
      "text/plain": [
       "LinearRegression()"
      ]
     },
     "execution_count": 11,
     "metadata": {},
     "output_type": "execute_result"
    }
   ],
   "source": [
    "# Create model\n",
    "clf = LinearRegression()\n",
    "\n",
    "# Training\n",
    "clf.fit(X_train, y_train)"
   ]
  },
  {
   "cell_type": "markdown",
   "id": "7f405d59-a152-4e17-8ea1-d29758d95457",
   "metadata": {
    "jp-MarkdownHeadingCollapsed": true,
    "tags": []
   },
   "source": [
    "<a id=\"test\"></a>\n",
    "## Test (evaluate the model)"
   ]
  },
  {
   "cell_type": "code",
   "execution_count": 15,
   "id": "bcff9799-db80-4036-bb16-3a59428afb20",
   "metadata": {},
   "outputs": [
    {
     "name": "stdout",
     "output_type": "stream",
     "text": [
      "Model accuracy: 0.9890909090909091\n"
     ]
    },
    {
     "data": {
      "image/png": "[encoded data removed]",
      "text/plain": [
       "<Figure size 432x288 with 1 Axes>"
      ]
     },
     "metadata": {
      "needs_background": "light"
     },
     "output_type": "display_data"
    },
    {
     "data": {
      "image/png": "[encoded data removed]",
      "text/plain": [
       "<Figure size 432x288 with 2 Axes>"
      ]
     },
     "metadata": {
      "needs_background": "light"
     },
     "output_type": "display_data"
    },
    {
     "name": "stdout",
     "output_type": "stream",
     "text": [
      "Confusion matrix:\n",
      " [[146   3]\n",
      " [  0 126]]\n",
      "Percentage classification error obtained from test set: 1.090909090909091%\n"
     ]
    }
   ],
   "source": [
    "X_test = test_df.iloc[:,0:4].to_numpy()\n",
    "y_test = test_df.iloc[:,4].astype(int).to_numpy()\n",
    "\n",
    "# Generate predictions\n",
    "y_pred = clf.predict(X_test)\n",
    "#print(y_pred)\n",
    "#print(y_test)\n",
    "plt.hist(y_pred, bins=50)\n",
    "\n",
    "# Use a threshold to select the probabilities that will determine class 0 or 1\n",
    "threshold = 0.5\n",
    "y_pred = np.where(y_pred > threshold, 1,0)\n",
    "y_test = np.where(y_test > threshold, 1,0)\n",
    "\n",
    "# Evaluate by means of accuracy\n",
    "accuracy = accuracy_score(y_test.astype(int), y_pred.astype(int))\n",
    "print(f'Model accuracy: {accuracy}')\n",
    "\n",
    "# Evaluate by means of a confusion matrix\n",
    "disp = ConfusionMatrixDisplay.from_predictions(y_test.astype(int), y_pred.astype(int),\n",
    "                                               cmap=plt.cm.Blues,\n",
    "                                               normalize='true')\n",
    "plt.show()\n",
    "\n",
    "cm = confusion_matrix(y_test, y_pred)\n",
    "print('Confusion matrix:\\n', cm)\n",
    "\n",
    "# Calculate the percentage classification error obtained from test set\n",
    "percentage_classification_error = 100 * ((cm[0][1] + cm[1][0]) / (cm[0][0] + cm[1][1] + cm[0][1] + cm[1][0]))\n",
    "print(f'Percentage classification error obtained from test set: {percentage_classification_error}%')"
   ]
  },
  {
   "cell_type": "code",
   "execution_count": 17,
   "id": "10646ae8",
   "metadata": {},
   "outputs": [],
   "source": [
    "banknote_mlr_results = {'real_value': y_test,\n",
    "                    'prediction': y_pred}\n",
    "  \n",
    "df = pd.DataFrame(banknote_mlr_results)\n",
    "\n",
    "df.to_csv('banknote_mlr_results.csv')"
   ]
  },
  {
   "cell_type": "markdown",
   "id": "a2182865-5a3c-497c-b78c-d1edcc321a73",
   "metadata": {
    "tags": []
   },
   "source": [
    "<a id=\"references\"></a>\n",
    "## References:\n",
    "\n",
    "Linear Regression:\n",
    "\n",
    "- Classification in Python with Scikit-Learn and Pandas: https://stackabuse.com/classification-in-python-with-scikit-learn-and-pandas/"
   ]
  }
 ],
 "metadata": {
  "kernelspec": {
   "display_name": "Python 3 (ipykernel)",
   "language": "python",
   "name": "python3"
  },
  "language_info": {
   "codemirror_mode": {
    "name": "ipython",
    "version": 3
   },
   "file_extension": ".py",
   "mimetype": "text/x-python",
   "name": "python",
   "nbconvert_exporter": "python",
   "pygments_lexer": "ipython3",
   "version": "3.9.7"
  }
 },
 "nbformat": 4,
 "nbformat_minor": 5
}
