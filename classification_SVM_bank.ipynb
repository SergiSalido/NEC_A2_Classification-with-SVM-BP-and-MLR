{
 "cells": [
  {
   "cell_type": "markdown",
   "id": "6fb35b37-7059-4306-8ba0-b018d00ee1f7",
   "metadata": {
    "tags": []
   },
   "source": [
    "# Classification with Support Vector Machines (SVM), bank"
   ]
  },
  {
   "cell_type": "markdown",
   "id": "73dff0ba-7e87-4a00-a55c-c40046580439",
   "metadata": {},
   "source": [
    "Make non-linear transformation of data and apply LSVM."
   ]
  },
  {
   "cell_type": "markdown",
   "id": "2902b1ef-979e-4e1c-82d2-d18f34585a78",
   "metadata": {
    "tags": []
   },
   "source": [
    "## Index\n",
    "<nav>\n",
    "\n",
    "* [Import modules](#import_modules)\n",
    "* [Loading data](#loading_data)\n",
    "* [Data preprocessing](#data_preprocessing)\n",
    "* [Cross validation](#cross_validation)\n",
    "* [Training (fit the model)](#training)\n",
    "* [Test (evaluate the model)](#test)\n",
    "* [References](#references)\n",
    "</nav>"
   ]
  },
  {
   "cell_type": "markdown",
   "id": "764d20e7-1615-4086-849c-546747540c94",
   "metadata": {
    "tags": []
   },
   "source": [
    "<a id=\"import_modules\"></a>\n",
    "## Import modules"
   ]
  },
  {
   "cell_type": "code",
   "execution_count": 2,
   "id": "15fc918d-8adb-477b-ac0a-b3f6cc0a11aa",
   "metadata": {
    "tags": []
   },
   "outputs": [],
   "source": [
    "import pandas as pd\n",
    "import numpy as np\n",
    "import matplotlib.pyplot as plt\n",
    "from sklearn.svm import SVC\n",
    "from sklearn.metrics import confusion_matrix, ConfusionMatrixDisplay, accuracy_score\n",
    "from sklearn.model_selection import KFold\n",
    "from sklearn.preprocessing import LabelEncoder, MinMaxScaler\n",
    "from sklearn.model_selection import train_test_split"
   ]
  },
  {
   "cell_type": "markdown",
   "id": "78b748b6-77b4-4ebc-b59a-ec9fcb07315c",
   "metadata": {
    "tags": []
   },
   "source": [
    "<a id=\"loading_data\"></a>\n",
    "## Loading data"
   ]
  },
  {
   "cell_type": "code",
   "execution_count": 3,
   "id": "b9294084-c748-44b4-9c5d-3cea48a0713c",
   "metadata": {
    "tags": []
   },
   "outputs": [
    {
     "data": {
      "text/html": [
       "<div>\n",
       "<style scoped>\n",
       "    .dataframe tbody tr th:only-of-type {\n",
       "        vertical-align: middle;\n",
       "    }\n",
       "\n",
       "    .dataframe tbody tr th {\n",
       "        vertical-align: top;\n",
       "    }\n",
       "\n",
       "    .dataframe thead th {\n",
       "        text-align: right;\n",
       "    }\n",
       "</style>\n",
       "<table border=\"1\" class=\"dataframe\">\n",
       "  <thead>\n",
       "    <tr style=\"text-align: right;\">\n",
       "      <th></th>\n",
       "      <th>age</th>\n",
       "      <th>job</th>\n",
       "      <th>marital</th>\n",
       "      <th>education</th>\n",
       "      <th>default</th>\n",
       "      <th>housing</th>\n",
       "      <th>loan</th>\n",
       "      <th>contact</th>\n",
       "      <th>month</th>\n",
       "      <th>day_of_week</th>\n",
       "      <th>...</th>\n",
       "      <th>campaign</th>\n",
       "      <th>pdays</th>\n",
       "      <th>previous</th>\n",
       "      <th>poutcome</th>\n",
       "      <th>emp.var.rate</th>\n",
       "      <th>cons.price.idx</th>\n",
       "      <th>cons.conf.idx</th>\n",
       "      <th>euribor3m</th>\n",
       "      <th>nr.employed</th>\n",
       "      <th>y</th>\n",
       "    </tr>\n",
       "  </thead>\n",
       "  <tbody>\n",
       "    <tr>\n",
       "      <th>0</th>\n",
       "      <td>30</td>\n",
       "      <td>blue-collar</td>\n",
       "      <td>married</td>\n",
       "      <td>basic.9y</td>\n",
       "      <td>no</td>\n",
       "      <td>yes</td>\n",
       "      <td>no</td>\n",
       "      <td>cellular</td>\n",
       "      <td>may</td>\n",
       "      <td>fri</td>\n",
       "      <td>...</td>\n",
       "      <td>2</td>\n",
       "      <td>999</td>\n",
       "      <td>0</td>\n",
       "      <td>nonexistent</td>\n",
       "      <td>-1.8</td>\n",
       "      <td>92.893</td>\n",
       "      <td>-46.2</td>\n",
       "      <td>1.313</td>\n",
       "      <td>5099.1</td>\n",
       "      <td>no</td>\n",
       "    </tr>\n",
       "    <tr>\n",
       "      <th>1</th>\n",
       "      <td>39</td>\n",
       "      <td>services</td>\n",
       "      <td>single</td>\n",
       "      <td>high.school</td>\n",
       "      <td>no</td>\n",
       "      <td>no</td>\n",
       "      <td>no</td>\n",
       "      <td>telephone</td>\n",
       "      <td>may</td>\n",
       "      <td>fri</td>\n",
       "      <td>...</td>\n",
       "      <td>4</td>\n",
       "      <td>999</td>\n",
       "      <td>0</td>\n",
       "      <td>nonexistent</td>\n",
       "      <td>1.1</td>\n",
       "      <td>93.994</td>\n",
       "      <td>-36.4</td>\n",
       "      <td>4.855</td>\n",
       "      <td>5191.0</td>\n",
       "      <td>no</td>\n",
       "    </tr>\n",
       "    <tr>\n",
       "      <th>2</th>\n",
       "      <td>25</td>\n",
       "      <td>services</td>\n",
       "      <td>married</td>\n",
       "      <td>high.school</td>\n",
       "      <td>no</td>\n",
       "      <td>yes</td>\n",
       "      <td>no</td>\n",
       "      <td>telephone</td>\n",
       "      <td>jun</td>\n",
       "      <td>wed</td>\n",
       "      <td>...</td>\n",
       "      <td>1</td>\n",
       "      <td>999</td>\n",
       "      <td>0</td>\n",
       "      <td>nonexistent</td>\n",
       "      <td>1.4</td>\n",
       "      <td>94.465</td>\n",
       "      <td>-41.8</td>\n",
       "      <td>4.962</td>\n",
       "      <td>5228.1</td>\n",
       "      <td>no</td>\n",
       "    </tr>\n",
       "    <tr>\n",
       "      <th>3</th>\n",
       "      <td>38</td>\n",
       "      <td>services</td>\n",
       "      <td>married</td>\n",
       "      <td>basic.9y</td>\n",
       "      <td>no</td>\n",
       "      <td>unknown</td>\n",
       "      <td>unknown</td>\n",
       "      <td>telephone</td>\n",
       "      <td>jun</td>\n",
       "      <td>fri</td>\n",
       "      <td>...</td>\n",
       "      <td>3</td>\n",
       "      <td>999</td>\n",
       "      <td>0</td>\n",
       "      <td>nonexistent</td>\n",
       "      <td>1.4</td>\n",
       "      <td>94.465</td>\n",
       "      <td>-41.8</td>\n",
       "      <td>4.959</td>\n",
       "      <td>5228.1</td>\n",
       "      <td>no</td>\n",
       "    </tr>\n",
       "    <tr>\n",
       "      <th>4</th>\n",
       "      <td>47</td>\n",
       "      <td>admin.</td>\n",
       "      <td>married</td>\n",
       "      <td>university.degree</td>\n",
       "      <td>no</td>\n",
       "      <td>yes</td>\n",
       "      <td>no</td>\n",
       "      <td>cellular</td>\n",
       "      <td>nov</td>\n",
       "      <td>mon</td>\n",
       "      <td>...</td>\n",
       "      <td>1</td>\n",
       "      <td>999</td>\n",
       "      <td>0</td>\n",
       "      <td>nonexistent</td>\n",
       "      <td>-0.1</td>\n",
       "      <td>93.200</td>\n",
       "      <td>-42.0</td>\n",
       "      <td>4.191</td>\n",
       "      <td>5195.8</td>\n",
       "      <td>no</td>\n",
       "    </tr>\n",
       "  </tbody>\n",
       "</table>\n",
       "<p>5 rows × 21 columns</p>\n",
       "</div>"
      ],
      "text/plain": [
       "   age          job  marital          education default  housing     loan  \\\n",
       "0   30  blue-collar  married           basic.9y      no      yes       no   \n",
       "1   39     services   single        high.school      no       no       no   \n",
       "2   25     services  married        high.school      no      yes       no   \n",
       "3   38     services  married           basic.9y      no  unknown  unknown   \n",
       "4   47       admin.  married  university.degree      no      yes       no   \n",
       "\n",
       "     contact month day_of_week  ...  campaign  pdays  previous     poutcome  \\\n",
       "0   cellular   may         fri  ...         2    999         0  nonexistent   \n",
       "1  telephone   may         fri  ...         4    999         0  nonexistent   \n",
       "2  telephone   jun         wed  ...         1    999         0  nonexistent   \n",
       "3  telephone   jun         fri  ...         3    999         0  nonexistent   \n",
       "4   cellular   nov         mon  ...         1    999         0  nonexistent   \n",
       "\n",
       "  emp.var.rate  cons.price.idx  cons.conf.idx  euribor3m  nr.employed   y  \n",
       "0         -1.8          92.893          -46.2      1.313       5099.1  no  \n",
       "1          1.1          93.994          -36.4      4.855       5191.0  no  \n",
       "2          1.4          94.465          -41.8      4.962       5228.1  no  \n",
       "3          1.4          94.465          -41.8      4.959       5228.1  no  \n",
       "4         -0.1          93.200          -42.0      4.191       5195.8  no  \n",
       "\n",
       "[5 rows x 21 columns]"
      ]
     },
     "execution_count": 3,
     "metadata": {},
     "output_type": "execute_result"
    }
   ],
   "source": [
    "# Load training data\n",
    "filename1 = 'input\\\\A2-bank\\\\bank-additional.csv'\n",
    "#filename1 = 'input\\\\A2-bank\\\\bank-additional-full.csv'\n",
    "bank_df = pd.read_csv(filename1, delimiter=';', header=0)\n",
    "bank_df.head()"
   ]
  },
  {
   "cell_type": "code",
   "execution_count": 4,
   "id": "9c7232b8",
   "metadata": {},
   "outputs": [
    {
     "data": {
      "text/plain": [
       "age                 int64\n",
       "job                object\n",
       "marital            object\n",
       "education          object\n",
       "default            object\n",
       "housing            object\n",
       "loan               object\n",
       "contact            object\n",
       "month              object\n",
       "day_of_week        object\n",
       "duration            int64\n",
       "campaign            int64\n",
       "pdays               int64\n",
       "previous            int64\n",
       "poutcome           object\n",
       "emp.var.rate      float64\n",
       "cons.price.idx    float64\n",
       "cons.conf.idx     float64\n",
       "euribor3m         float64\n",
       "nr.employed       float64\n",
       "y                  object\n",
       "dtype: object"
      ]
     },
     "execution_count": 4,
     "metadata": {},
     "output_type": "execute_result"
    }
   ],
   "source": [
    "bank_df.dtypes"
   ]
  },
  {
   "cell_type": "code",
   "execution_count": 5,
   "id": "61279ad5",
   "metadata": {},
   "outputs": [
    {
     "data": {
      "text/html": [
       "<div>\n",
       "<style scoped>\n",
       "    .dataframe tbody tr th:only-of-type {\n",
       "        vertical-align: middle;\n",
       "    }\n",
       "\n",
       "    .dataframe tbody tr th {\n",
       "        vertical-align: top;\n",
       "    }\n",
       "\n",
       "    .dataframe thead th {\n",
       "        text-align: right;\n",
       "    }\n",
       "</style>\n",
       "<table border=\"1\" class=\"dataframe\">\n",
       "  <thead>\n",
       "    <tr style=\"text-align: right;\">\n",
       "      <th></th>\n",
       "      <th>age</th>\n",
       "      <th>job</th>\n",
       "      <th>marital</th>\n",
       "      <th>education</th>\n",
       "      <th>default</th>\n",
       "      <th>housing</th>\n",
       "      <th>loan</th>\n",
       "      <th>contact</th>\n",
       "      <th>month</th>\n",
       "      <th>day_of_week</th>\n",
       "      <th>...</th>\n",
       "      <th>campaign</th>\n",
       "      <th>pdays</th>\n",
       "      <th>previous</th>\n",
       "      <th>poutcome</th>\n",
       "      <th>emp.var.rate</th>\n",
       "      <th>cons.price.idx</th>\n",
       "      <th>cons.conf.idx</th>\n",
       "      <th>euribor3m</th>\n",
       "      <th>nr.employed</th>\n",
       "      <th>y</th>\n",
       "    </tr>\n",
       "  </thead>\n",
       "  <tbody>\n",
       "  </tbody>\n",
       "</table>\n",
       "<p>0 rows × 21 columns</p>\n",
       "</div>"
      ],
      "text/plain": [
       "Empty DataFrame\n",
       "Columns: [age, job, marital, education, default, housing, loan, contact, month, day_of_week, duration, campaign, pdays, previous, poutcome, emp.var.rate, cons.price.idx, cons.conf.idx, euribor3m, nr.employed, y]\n",
       "Index: []\n",
       "\n",
       "[0 rows x 21 columns]"
      ]
     },
     "execution_count": 5,
     "metadata": {},
     "output_type": "execute_result"
    }
   ],
   "source": [
    "bank_df[bank_df.isnull().any(axis=1)]"
   ]
  },
  {
   "cell_type": "markdown",
   "id": "a435b7cf-c1d9-4761-8beb-e252484f172e",
   "metadata": {},
   "source": [
    "<a id=\"data_preprocessing\"></a>\n",
    "## Data preprocessing"
   ]
  },
  {
   "cell_type": "markdown",
   "id": "32a6996d",
   "metadata": {},
   "source": [
    "### Input variables:\n",
    "\n",
    "Bank client data:\n",
    "\n",
    "1. age (numeric)\n",
    "   \n",
    "2. job: type of job (categorical: \"admin.\",\"blue-collar\",\"entrepreneur\",\"housemaid\",\"management\",\"retired\",\"self-employed\",\"services\",\"student\",\"technician\",\"unemployed\",\"unknown\")\n",
    "\n",
    "3. marital: marital status (categorical: \"divorced\",\"married\",\"single\",\"unknown\"; note: \"divorced\" means divorced or widowed)\n",
    "\n",
    "4. education (categorical: \"basic.4y\",\"basic.6y\",\"basic.9y\",\"high.school\",\"illiterate\",\"professional.course\",\"university.degree\",\"unknown\")\n",
    "\n",
    "5. default: has credit in default? (categorical: \"no\",\"yes\",\"unknown\")\n",
    "\n",
    "6. housing: has housing loan? (categorical: \"no\",\"yes\",\"unknown\")\n",
    "\n",
    "7. loan: has personal loan? (categorical: \"no\",\"yes\",\"unknown\")\n",
    "\n",
    "related with the last contact of the current campaign:\n",
    "\n",
    "8. contact: contact communication type (categorical: \"cellular\",\"telephone\")\n",
    "\n",
    "9. month: last contact month of year (categorical: \"jan\", \"feb\", \"mar\", ..., \"nov\", \"dec\")\n",
    "\n",
    "10. day_of_week: last contact day of the week (categorical: \"mon\",\"tue\",\"wed\",\"thu\",\"fri\")\n",
    "\n",
    "11. duration: last contact duration, in seconds (numeric). Important note:  this attribute highly affects the output target (e.g., if duration=0 then y=\"no\"). Yet, the duration is not known before a call is performed. Also, after the end of the call y is obviously known. Thus, this input should only be included for benchmark purposes and should be discarded if the intention is to have a realistic predictive model.\n",
    "\n",
    "other attributes:\n",
    "\n",
    "12. campaign: number of contacts performed during this campaign and for this client (numeric, includes last contact)\n",
    "\n",
    "13. pdays: number of days that passed by after the client was last contacted from a previous campaign (numeric; 999 means client was not previously contacted)\n",
    "\n",
    "14. previous: number of contacts performed before this campaign and for this client (numeric)\n",
    "\n",
    "15. poutcome: outcome of the previous marketing campaign (categorical: \"failure\",\"nonexistent\",\"success\")\n",
    "\n",
    "social and economic context attributes\n",
    "\n",
    "16. emp.var.rate: employment variation rate - quarterly indicator (numeric)\n",
    "\n",
    "17. cons.price.idx: consumer price index - monthly indicator (numeric)\n",
    "\n",
    "18. cons.conf.idx: consumer confidence index - monthly indicator (numeric)\n",
    "\n",
    "19. euribor3m: euribor 3 month rate - daily indicator (numeric)\n",
    "\n",
    "20. nr.employed: number of employees - quarterly indicator (numeric)\n",
    "\n",
    "Output variable (desired target):\n",
    "\n",
    "21. y - has the client subscribed a term deposit? (binary: \"yes\",\"no\")"
   ]
  },
  {
   "cell_type": "markdown",
   "id": "edfdd850-ef70-467a-95aa-b807a0ba420b",
   "metadata": {},
   "source": [
    "[LabelEncoder](https://scikit-learn.org/stable/modules/generated/sklearn.preprocessing.LabelEncoder.html) can be used to transform non-numerical labels (as long as they are hashable and comparable) to numerical labels."
   ]
  },
  {
   "cell_type": "code",
   "execution_count": 6,
   "id": "d72ec63c",
   "metadata": {},
   "outputs": [
    {
     "name": "stdout",
     "output_type": "stream",
     "text": [
      "['job', 'marital', 'education', 'default', 'housing', 'loan', 'contact', 'month', 'day_of_week', 'poutcome', 'y']\n",
      "      age  job  marital  education  default  housing  loan  contact  month  \\\n",
      "0      30    1        1          2        0        2     0        0      6   \n",
      "1      39    7        2          3        0        0     0        1      6   \n",
      "2      25    7        1          3        0        2     0        1      4   \n",
      "3      38    7        1          2        0        1     1        1      4   \n",
      "4      47    0        1          6        0        2     0        0      7   \n",
      "...   ...  ...      ...        ...      ...      ...   ...      ...    ...   \n",
      "4114   30    0        1          1        0        2     2        0      3   \n",
      "4115   39    0        1          3        0        2     0        1      3   \n",
      "4116   27    8        2          3        0        0     0        0      6   \n",
      "4117   58    0        1          3        0        0     0        0      1   \n",
      "4118   34    4        2          3        0        2     0        0      7   \n",
      "\n",
      "      day_of_week  ...  campaign  pdays  previous  poutcome  emp.var.rate  \\\n",
      "0               0  ...         2    999         0         1          -1.8   \n",
      "1               0  ...         4    999         0         1           1.1   \n",
      "2               4  ...         1    999         0         1           1.4   \n",
      "3               0  ...         3    999         0         1           1.4   \n",
      "4               1  ...         1    999         0         1          -0.1   \n",
      "...           ...  ...       ...    ...       ...       ...           ...   \n",
      "4114            2  ...         1    999         0         1           1.4   \n",
      "4115            0  ...         1    999         0         1           1.4   \n",
      "4116            1  ...         2    999         1         0          -1.8   \n",
      "4117            0  ...         1    999         0         1           1.4   \n",
      "4118            4  ...         1    999         0         1          -0.1   \n",
      "\n",
      "      cons.price.idx  cons.conf.idx  euribor3m  nr.employed  y  \n",
      "0             92.893          -46.2      1.313       5099.1  0  \n",
      "1             93.994          -36.4      4.855       5191.0  0  \n",
      "2             94.465          -41.8      4.962       5228.1  0  \n",
      "3             94.465          -41.8      4.959       5228.1  0  \n",
      "4             93.200          -42.0      4.191       5195.8  0  \n",
      "...              ...            ...        ...          ... ..  \n",
      "4114          93.918          -42.7      4.958       5228.1  0  \n",
      "4115          93.918          -42.7      4.959       5228.1  0  \n",
      "4116          92.893          -46.2      1.354       5099.1  0  \n",
      "4117          93.444          -36.1      4.966       5228.1  0  \n",
      "4118          93.200          -42.0      4.120       5195.8  0  \n",
      "\n",
      "[4119 rows x 21 columns]\n"
     ]
    }
   ],
   "source": [
    "# get all categorical columns in the dataframe\n",
    "catCols = [col for col in bank_df.columns if bank_df[col].dtype==\"O\"]\n",
    "print(catCols)\n",
    "\n",
    "lb_make = LabelEncoder()\n",
    "\n",
    "for item in catCols:\n",
    "    bank_df[item] = lb_make.fit_transform(bank_df[item])\n",
    "\n",
    "print(bank_df)"
   ]
  },
  {
   "cell_type": "code",
   "execution_count": 7,
   "id": "223e32ce",
   "metadata": {},
   "outputs": [],
   "source": [
    "min_max_scaler = MinMaxScaler()\n",
    "x_scaled = min_max_scaler.fit_transform(bank_df)\n",
    "bank_df = pd.DataFrame(x_scaled)"
   ]
  },
  {
   "cell_type": "code",
   "execution_count": 8,
   "id": "d138b31c",
   "metadata": {},
   "outputs": [
    {
     "name": "stdout",
     "output_type": "stream",
     "text": [
      "            0         1         2         3    4    5    6    7         8   \\\n",
      "3944  0.385714  0.000000  0.000000  0.428571  0.0  1.0  0.0  0.0  0.777778   \n",
      "1162  0.542857  0.000000  0.333333  0.857143  0.0  1.0  0.0  0.0  0.333333   \n",
      "2901  0.471429  0.090909  0.000000  1.000000  0.5  0.0  0.0  1.0  0.444444   \n",
      "3514  0.185714  0.909091  0.333333  0.428571  1.0  0.0  0.0  0.0  0.777778   \n",
      "460   0.428571  0.545455  0.333333  0.857143  0.5  1.0  0.0  1.0  0.666667   \n",
      "...        ...       ...       ...       ...  ...  ...  ...  ...       ...   \n",
      "3908  0.385714  0.818182  0.333333  0.857143  0.0  1.0  0.0  1.0  0.666667   \n",
      "908   0.042857  0.727273  0.666667  0.428571  0.0  1.0  1.0  0.0  0.444444   \n",
      "1220  0.542857  0.909091  0.000000  0.857143  0.5  1.0  0.0  1.0  0.666667   \n",
      "1358  0.200000  0.000000  0.333333  0.428571  0.0  0.0  0.0  0.0  0.777778   \n",
      "1732  0.257143  0.000000  0.666667  1.000000  0.0  0.0  0.0  0.0  0.333333   \n",
      "\n",
      "        9   ...        11   12        13   14        15        16        17  \\\n",
      "3944  0.00  ...  0.029412  1.0  0.000000  0.5  0.687500  0.389322  0.368201   \n",
      "1162  0.00  ...  0.117647  1.0  0.000000  0.5  1.000000  0.669135  0.338912   \n",
      "2901  1.00  ...  0.000000  1.0  0.000000  0.5  1.000000  0.882307  0.376569   \n",
      "3514  0.75  ...  0.029412  1.0  0.166667  0.0  0.687500  0.389322  0.368201   \n",
      "460   0.50  ...  0.029412  1.0  0.000000  0.5  0.937500  0.698753  0.602510   \n",
      "...    ...  ...       ...  ...       ...  ...       ...       ...       ...   \n",
      "3908  0.00  ...  0.000000  1.0  0.000000  0.5  0.937500  0.698753  0.602510   \n",
      "908   1.00  ...  0.029412  1.0  0.000000  0.5  0.354167  0.722525  0.460251   \n",
      "1220  0.00  ...  0.000000  1.0  0.000000  0.5  0.937500  0.698753  0.602510   \n",
      "1358  0.00  ...  0.029412  1.0  0.000000  0.5  0.687500  0.389322  0.368201   \n",
      "1732  0.75  ...  0.000000  1.0  0.000000  0.5  1.000000  0.669135  0.338912   \n",
      "\n",
      "            18        19   20  \n",
      "3944  0.767800  0.877883  1.0  \n",
      "1162  0.980045  1.000000  0.0  \n",
      "2901  0.981179  1.000000  0.0  \n",
      "3514  0.797732  0.877883  0.0  \n",
      "460   0.958050  0.859735  0.0  \n",
      "...        ...       ...  ...  \n",
      "3908  0.957370  0.859735  0.0  \n",
      "908   0.029932  0.105860  1.0  \n",
      "1220  0.957370  0.859735  0.0  \n",
      "1358  0.767800  0.877883  0.0  \n",
      "1732  0.980952  1.000000  0.0  \n",
      "\n",
      "[3295 rows x 21 columns]\n",
      "            0         1         2         3    4    5    6    7         8   \\\n",
      "1959  0.285714  0.363636  0.333333  0.857143  0.0  0.0  0.0  1.0  0.666667   \n",
      "2357  0.285714  0.090909  0.333333  0.142857  0.0  0.0  0.0  1.0  0.666667   \n",
      "1008  0.257143  0.363636  0.333333  0.857143  0.0  1.0  0.0  0.0  0.666667   \n",
      "933   0.185714  0.636364  0.000000  0.428571  0.0  1.0  1.0  0.0  0.777778   \n",
      "2794  0.400000  0.636364  0.333333  0.285714  0.0  0.0  0.0  0.0  0.333333   \n",
      "...        ...       ...       ...       ...  ...  ...  ...  ...       ...   \n",
      "1073  0.414286  0.363636  0.333333  0.857143  0.0  0.0  0.0  0.0  0.000000   \n",
      "2346  0.357143  0.818182  0.333333  0.857143  0.0  1.0  0.0  0.0  0.111111   \n",
      "736   0.142857  0.000000  0.666667  0.857143  0.0  0.0  0.0  0.0  0.000000   \n",
      "407   0.300000  0.818182  0.000000  0.714286  0.0  1.0  0.0  1.0  0.666667   \n",
      "254   0.100000  0.818182  0.666667  0.857143  0.0  1.0  1.0  1.0  0.444444   \n",
      "\n",
      "        9   ...        11   12   13   14        15        16        17  \\\n",
      "1959  0.00  ...  0.029412  1.0  0.0  0.5  0.937500  0.698753  0.602510   \n",
      "2357  0.50  ...  0.235294  1.0  0.0  0.5  0.937500  0.698753  0.602510   \n",
      "1008  0.25  ...  0.147059  1.0  0.0  0.5  0.333333  0.269680  0.192469   \n",
      "933   0.25  ...  0.000000  1.0  0.0  0.5  0.687500  0.389322  0.368201   \n",
      "2794  0.75  ...  0.029412  1.0  0.0  0.5  1.000000  0.669135  0.338912   \n",
      "...    ...  ...       ...  ...  ...  ...       ...       ...       ...   \n",
      "1073  0.25  ...  0.058824  1.0  0.0  0.5  0.333333  0.340608  0.154812   \n",
      "2346  0.25  ...  0.088235  1.0  0.0  0.5  1.000000  0.484412  0.615063   \n",
      "736   0.00  ...  0.000000  1.0  0.0  0.5  0.333333  0.340608  0.154812   \n",
      "407   0.00  ...  0.000000  1.0  0.0  0.5  0.937500  0.698753  0.602510   \n",
      "254   0.25  ...  0.147059  1.0  0.0  0.5  1.000000  0.882307  0.376569   \n",
      "\n",
      "            18        19   20  \n",
      "1959  0.957823  0.859735  0.0  \n",
      "2357  0.956916  0.859735  0.0  \n",
      "1008  0.163039  0.512287  0.0  \n",
      "933   0.806349  0.877883  0.0  \n",
      "2794  0.981179  1.000000  0.0  \n",
      "...        ...       ...  ...  \n",
      "1073  0.174603  0.512287  0.0  \n",
      "2346  0.981406  1.000000  0.0  \n",
      "736   0.174603  0.512287  0.0  \n",
      "407   0.956916  0.859735  0.0  \n",
      "254   0.980726  1.000000  0.0  \n",
      "\n",
      "[824 rows x 21 columns]\n"
     ]
    }
   ],
   "source": [
    "train_df, test_df = train_test_split(bank_df, test_size=0.2)\n",
    "print(train_df)\n",
    "print(test_df)"
   ]
  },
  {
   "cell_type": "markdown",
   "id": "46156221-2155-40cc-912a-599a4aa2bb11",
   "metadata": {
    "jp-MarkdownHeadingCollapsed": true,
    "tags": []
   },
   "source": [
    "<a id=\"cross_validation\"></a>\n",
    "## Cross validation"
   ]
  },
  {
   "cell_type": "markdown",
   "id": "a8a4bed0-fa11-47c9-902f-79829935c0ff",
   "metadata": {},
   "source": [
    "Using [k-fold cross-validation](https://scikit-learn.org/stable/modules/cross_validation.html#k-fold) in order to find good values for all the parameters of SVM: kernel, and parameters."
   ]
  },
  {
   "cell_type": "code",
   "execution_count": 12,
   "id": "8e4b88f5-57fe-4e23-a4ac-8b39ed4bc689",
   "metadata": {},
   "outputs": [
    {
     "name": "stdout",
     "output_type": "stream",
     "text": [
      "K-fold ---------------------------------------------------------------\n",
      "Model accuracy: 0.9101941747572816\n"
     ]
    },
    {
     "data": {
      "image/png": "[encoded data removed]",
      "text/plain": [
       "<Figure size 432x288 with 2 Axes>"
      ]
     },
     "metadata": {
      "needs_background": "light"
     },
     "output_type": "display_data"
    },
    {
     "name": "stdout",
     "output_type": "stream",
     "text": [
      "Confusion matrix:\n",
      " [[730   6]\n",
      " [ 68  20]]\n",
      "Percentage classification error obtained from validation set: 8.980582524271846%\n",
      "K-fold ---------------------------------------------------------------\n",
      "Model accuracy: 0.9065533980582524\n"
     ]
    },
    {
     "data": {
      "image/png": "[encoded data removed]",
      "text/plain": [
       "<Figure size 432x288 with 2 Axes>"
      ]
     },
     "metadata": {
      "needs_background": "light"
     },
     "output_type": "display_data"
    },
    {
     "name": "stdout",
     "output_type": "stream",
     "text": [
      "Confusion matrix:\n",
      " [[735  14]\n",
      " [ 63  12]]\n",
      "Percentage classification error obtained from validation set: 9.344660194174757%\n",
      "K-fold ---------------------------------------------------------------\n",
      "Model accuracy: 0.8956310679611651\n"
     ]
    },
    {
     "data": {
      "image/png": "[encoded data removed]",
      "text/plain": [
       "<Figure size 432x288 with 2 Axes>"
      ]
     },
     "metadata": {
      "needs_background": "light"
     },
     "output_type": "display_data"
    },
    {
     "name": "stdout",
     "output_type": "stream",
     "text": [
      "Confusion matrix:\n",
      " [[716   7]\n",
      " [ 79  22]]\n",
      "Percentage classification error obtained from validation set: 10.436893203883495%\n",
      "K-fold ---------------------------------------------------------------\n",
      "Model accuracy: 0.8967193195625759\n"
     ]
    },
    {
     "data": {
      "image/png": "[encoded data removed]",
      "text/plain": [
       "<Figure size 432x288 with 2 Axes>"
      ]
     },
     "metadata": {
      "needs_background": "light"
     },
     "output_type": "display_data"
    },
    {
     "name": "stdout",
     "output_type": "stream",
     "text": [
      "Confusion matrix:\n",
      " [[724   7]\n",
      " [ 78  14]]\n",
      "Percentage classification error obtained from validation set: 10.328068043742405%\n",
      "Mean percentage classification error obtained from cross validation: 9.772550991518125%\n"
     ]
    }
   ],
   "source": [
    "X_train = train_df.iloc[:,0:20].to_numpy()\n",
    "y_train = train_df.iloc[:,20].astype(int).to_numpy()\n",
    "\n",
    "cv_percentage_classification_errors = list()\n",
    "\n",
    "# 4-fold cross-validation\n",
    "kf = KFold(n_splits=4)\n",
    "for train, validation in kf.split(X_train):\n",
    "    print('K-fold ---------------------------------------------------------------')\n",
    "    \n",
    "    # Create the SVM estimator\n",
    "    clf = SVC(kernel='rbf', random_state=0)\n",
    "    \n",
    "    # Train the model using the training set\n",
    "    clf.fit(X_train[train], y_train[train])\n",
    "\n",
    "    # Generate predictions\n",
    "    y_pred = clf.predict(X_train[validation])\n",
    "    \n",
    "    # Evaluate by means of accuracy\n",
    "    accuracy = accuracy_score(y_train[validation], y_pred)\n",
    "    print(f'Model accuracy: {accuracy}')\n",
    "    \n",
    "    # Evaluate by means of a confusion matrix\n",
    "    disp = ConfusionMatrixDisplay.from_predictions(y_train[validation], y_pred,\n",
    "                                                   labels=clf.classes_,\n",
    "                                                   display_labels=clf.classes_,\n",
    "                                                   cmap=plt.cm.Blues,\n",
    "                                                   normalize='true')\n",
    "    plt.show()\n",
    "    \n",
    "    cm = confusion_matrix(y_train[validation], y_pred)\n",
    "    print('Confusion matrix:\\n', cm)\n",
    "\n",
    "    # Calculate the percentage classification error obtained from validation test\n",
    "    percentage_classification_error = 100 * ((cm[0][1] + cm[1][0]) / (cm[0][0] + cm[1][1] + cm[0][1] + cm[1][0]))\n",
    "    print(f'Percentage classification error obtained from validation set: {percentage_classification_error}%')\n",
    "    \n",
    "    cv_percentage_classification_errors.append(percentage_classification_error)\n",
    "    \n",
    "# Calculate the mean percentage classification error obtained from cross-validation\n",
    "print(f'Mean percentage classification error obtained from cross validation: {np.mean(cv_percentage_classification_errors)}%')"
   ]
  },
  {
   "cell_type": "markdown",
   "id": "c17f99b1-28f8-4358-ad93-860975abac3c",
   "metadata": {
    "jp-MarkdownHeadingCollapsed": true,
    "tags": []
   },
   "source": [
    "<a id=\"training\"></a>\n",
    "## Training (fit the model)"
   ]
  },
  {
   "cell_type": "code",
   "execution_count": 13,
   "id": "a0a6d2fa-3e87-4a69-a042-57934ed9b2a6",
   "metadata": {},
   "outputs": [
    {
     "name": "stdout",
     "output_type": "stream",
     "text": [
      "Names and current values for all parameters for the estimator:  {'C': 1.0, 'break_ties': False, 'cache_size': 200, 'class_weight': None, 'coef0': 0.0, 'decision_function_shape': 'ovr', 'degree': 3, 'gamma': 'scale', 'kernel': 'rbf', 'max_iter': -1, 'probability': False, 'random_state': 0, 'shrinking': True, 'tol': 0.001, 'verbose': False}\n"
     ]
    },
    {
     "data": {
      "text/plain": [
       "SVC(random_state=0)"
      ]
     },
     "execution_count": 13,
     "metadata": {},
     "output_type": "execute_result"
    }
   ],
   "source": [
    "# Create the SVM estimator\n",
    "clf = SVC(kernel='rbf', random_state=0)\n",
    "print('Names and current values for all parameters for the estimator: ', clf.get_params())\n",
    "\n",
    "# Train the model using 'all' the training set\n",
    "clf.fit(X_train, y_train)"
   ]
  },
  {
   "cell_type": "markdown",
   "id": "7f405d59-a152-4e17-8ea1-d29758d95457",
   "metadata": {
    "jp-MarkdownHeadingCollapsed": true,
    "tags": []
   },
   "source": [
    "<a id=\"test\"></a>\n",
    "## Test (evaluate the model)"
   ]
  },
  {
   "cell_type": "code",
   "execution_count": 14,
   "id": "bcff9799-db80-4036-bb16-3a59428afb20",
   "metadata": {},
   "outputs": [
    {
     "name": "stdout",
     "output_type": "stream",
     "text": [
      "Model accuracy: 0.8968446601941747\n"
     ]
    },
    {
     "data": {
      "image/png": "[encoded data removed]",
      "text/plain": [
       "<Figure size 432x288 with 2 Axes>"
      ]
     },
     "metadata": {
      "needs_background": "light"
     },
     "output_type": "display_data"
    },
    {
     "name": "stdout",
     "output_type": "stream",
     "text": [
      "Confusion matrix:\n",
      " [[719  10]\n",
      " [ 75  20]]\n",
      "Percentage classification error obtained from test set: 10.315533980582524%\n"
     ]
    }
   ],
   "source": [
    "X_test = test_df.iloc[:,0:20].to_numpy()\n",
    "y_test = test_df.iloc[:,20].astype(int).to_numpy()\n",
    "\n",
    "# Generate predictions\n",
    "y_pred = clf.predict(X_test)\n",
    "\n",
    "# Evaluate by means of accuracy\n",
    "accuracy = accuracy_score(y_test, y_pred)\n",
    "print(f'Model accuracy: {accuracy}')\n",
    "\n",
    "# Evaluate by means of a confusion matrix\n",
    "disp = ConfusionMatrixDisplay.from_predictions(y_test, y_pred,\n",
    "                                               labels=clf.classes_,\n",
    "                                               display_labels=clf.classes_,\n",
    "                                               cmap=plt.cm.Blues,\n",
    "                                               normalize='true')\n",
    "plt.show()\n",
    "\n",
    "cm = confusion_matrix(y_test, y_pred)\n",
    "print('Confusion matrix:\\n', cm)\n",
    "\n",
    "# Calculate the percentage classification error obtained from test set\n",
    "percentage_classification_error = 100 * ((cm[0][1] + cm[1][0]) / (cm[0][0] + cm[1][1] + cm[0][1] + cm[1][0]))\n",
    "print(f'Percentage classification error obtained from test set: {percentage_classification_error}%')"
   ]
  },
  {
   "cell_type": "code",
   "execution_count": 15,
   "id": "9d36c76a",
   "metadata": {},
   "outputs": [],
   "source": [
    "bank_svm_results = { 'real_value': y_test,\n",
    "                    'prediction': y_pred}\n",
    "  \n",
    "df = pd.DataFrame(bank_svm_results)\n",
    "\n",
    "df.to_csv('bank_svm_results.csv')"
   ]
  },
  {
   "cell_type": "markdown",
   "id": "a2182865-5a3c-497c-b78c-d1edcc321a73",
   "metadata": {
    "tags": []
   },
   "source": [
    "<a id=\"references\"></a>\n",
    "## References:\n",
    "\n",
    "Support Vector Machines:\n",
    "\n",
    "- [A Practical Guide to Support Vector Classification](https://www.csie.ntu.edu.tw/~cjlin/papers/guide/guide.pdf)\n",
    "- https://scikit-learn.org/stable/modules/svm.html#classification\n",
    "- [Support Vector Classification](https://scikit-learn.org/stable/modules/generated/sklearn.svm.SVC.html#sklearn.svm.SVC)\n",
    "- https://www.datacamp.com/community/tutorials/svm-classification-scikit-learn-python\n",
    "- [How do I select SVM kernels?](https://sebastianraschka.com/faq/docs/select_svm_kernels.html)\n",
    "- [RBF SVMs with Python and Scikit-learn: an Example](https://www.machinecurve.com/index.php/2020/11/25/using-radial-basis-functions-for-svms-with-python-and-scikit-learn/#:~:text=the%20RBF%20kernel.-,RBF%20SVMs%20with%20Python%20and%20Scikit%2Dlearn%3A%20an%20Example,-We%20can%20easily)\n",
    "- [RBF SVM parameters](https://scikit-learn.org/stable/auto_examples/svm/plot_rbf_parameters.html)\n",
    "\n",
    "Data Visualization:\n",
    "\n",
    "- [Seaborn Library for Data Visualization in Python: Part 1](https://stackabuse.com/seaborn-library-for-data-visualization-in-python-part-1)\n",
    "\n",
    "Cross Validation:\n",
    "\n",
    "- [Cross-validation: evaluating estimator performance](https://scikit-learn.org/stable/modules/cross_validation.html#cross-validation)\n",
    "- [Tuning the hyper-parameters of an estimator](https://scikit-learn.org/stable/modules/grid_search.html#tuning-the-hyper-parameters-of-an-estimato)\n",
    "- [Parameter estimation using grid search with cross-validation](https://scikit-learn.org/stable/auto_examples/model_selection/plot_grid_search_digits.html#sphx-glr-auto-examples-model-selection-plot-grid-search-digits-py)\n",
    "\n",
    "Data Preprocessing:\n",
    "\n",
    "- [sklearn.preprocessing.LabelEncoder](https://scikit-learn.org/stable/modules/generated/sklearn.preprocessing.LabelEncoder.html)\n",
    "- [Guide to Encoding Categorical Values in Python](https://pbpython.com/categorical-encoding.html)"
   ]
  }
 ],
 "metadata": {
  "kernelspec": {
   "display_name": "Python 3 (ipykernel)",
   "language": "python",
   "name": "python3"
  },
  "language_info": {
   "codemirror_mode": {
    "name": "ipython",
    "version": 3
   },
   "file_extension": ".py",
   "mimetype": "text/x-python",
   "name": "python",
   "nbconvert_exporter": "python",
   "pygments_lexer": "ipython3",
   "version": "3.9.7"
  }
 },
 "nbformat": 4,
 "nbformat_minor": 5
}
